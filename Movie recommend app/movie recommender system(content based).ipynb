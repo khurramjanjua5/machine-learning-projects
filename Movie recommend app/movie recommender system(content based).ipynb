{
 "cells": [
  {
   "cell_type": "code",
   "execution_count": 1,
   "id": "b390857c",
   "metadata": {},
   "outputs": [],
   "source": [
    "import pandas as pd\n",
    "import numpy as np"
   ]
  },
  {
   "cell_type": "code",
   "execution_count": 2,
   "id": "4380092a",
   "metadata": {},
   "outputs": [],
   "source": [
    "credit=pd.read_csv('movies_credits.csv')\n",
    "mov=pd.read_csv('tmdb_movies.csv')"
   ]
  },
  {
   "cell_type": "code",
   "execution_count": 5,
   "id": "687870c9",
   "metadata": {},
   "outputs": [],
   "source": [
    "import ast\n",
    "\n",
    "def convert3(obj):\n",
    "    L = []\n",
    "    counter = 0\n",
    "    for i in ast.literal_eval(obj):\n",
    "        if counter != 3:\n",
    "            L.append(i['name'])\n",
    "            counter += 1\n",
    "        else:\n",
    "            break\n",
    "    return L \n",
    "\n",
    "# Applying the function to each row of the 'cast' column\n",
    "credit['cast']= credit['cast'].apply(convert3)"
   ]
  },
  {
   "cell_type": "code",
   "execution_count": 6,
   "id": "01fb9185",
   "metadata": {},
   "outputs": [
    {
     "data": {
      "text/html": [
       "<div>\n",
       "<style scoped>\n",
       "    .dataframe tbody tr th:only-of-type {\n",
       "        vertical-align: middle;\n",
       "    }\n",
       "\n",
       "    .dataframe tbody tr th {\n",
       "        vertical-align: top;\n",
       "    }\n",
       "\n",
       "    .dataframe thead th {\n",
       "        text-align: right;\n",
       "    }\n",
       "</style>\n",
       "<table border=\"1\" class=\"dataframe\">\n",
       "  <thead>\n",
       "    <tr style=\"text-align: right;\">\n",
       "      <th></th>\n",
       "      <th>movie_id</th>\n",
       "      <th>title</th>\n",
       "      <th>cast</th>\n",
       "      <th>crew</th>\n",
       "    </tr>\n",
       "  </thead>\n",
       "  <tbody>\n",
       "    <tr>\n",
       "      <th>0</th>\n",
       "      <td>19995</td>\n",
       "      <td>Avatar</td>\n",
       "      <td>[Sam Worthington, Zoe Saldana, Sigourney Weaver]</td>\n",
       "      <td>[{\"credit_id\": \"52fe48009251416c750aca23\", \"de...</td>\n",
       "    </tr>\n",
       "    <tr>\n",
       "      <th>1</th>\n",
       "      <td>285</td>\n",
       "      <td>Pirates of the Caribbean: At World's End</td>\n",
       "      <td>[Johnny Depp, Orlando Bloom, Keira Knightley]</td>\n",
       "      <td>[{\"credit_id\": \"52fe4232c3a36847f800b579\", \"de...</td>\n",
       "    </tr>\n",
       "    <tr>\n",
       "      <th>2</th>\n",
       "      <td>206647</td>\n",
       "      <td>Spectre</td>\n",
       "      <td>[Daniel Craig, Christoph Waltz, Léa Seydoux]</td>\n",
       "      <td>[{\"credit_id\": \"54805967c3a36829b5002c41\", \"de...</td>\n",
       "    </tr>\n",
       "    <tr>\n",
       "      <th>3</th>\n",
       "      <td>49026</td>\n",
       "      <td>The Dark Knight Rises</td>\n",
       "      <td>[Christian Bale, Michael Caine, Gary Oldman]</td>\n",
       "      <td>[{\"credit_id\": \"52fe4781c3a36847f81398c3\", \"de...</td>\n",
       "    </tr>\n",
       "    <tr>\n",
       "      <th>4</th>\n",
       "      <td>49529</td>\n",
       "      <td>John Carter</td>\n",
       "      <td>[Taylor Kitsch, Lynn Collins, Samantha Morton]</td>\n",
       "      <td>[{\"credit_id\": \"52fe479ac3a36847f813eaa3\", \"de...</td>\n",
       "    </tr>\n",
       "  </tbody>\n",
       "</table>\n",
       "</div>"
      ],
      "text/plain": [
       "   movie_id                                     title  \\\n",
       "0     19995                                    Avatar   \n",
       "1       285  Pirates of the Caribbean: At World's End   \n",
       "2    206647                                   Spectre   \n",
       "3     49026                     The Dark Knight Rises   \n",
       "4     49529                               John Carter   \n",
       "\n",
       "                                               cast  \\\n",
       "0  [Sam Worthington, Zoe Saldana, Sigourney Weaver]   \n",
       "1     [Johnny Depp, Orlando Bloom, Keira Knightley]   \n",
       "2      [Daniel Craig, Christoph Waltz, Léa Seydoux]   \n",
       "3      [Christian Bale, Michael Caine, Gary Oldman]   \n",
       "4    [Taylor Kitsch, Lynn Collins, Samantha Morton]   \n",
       "\n",
       "                                                crew  \n",
       "0  [{\"credit_id\": \"52fe48009251416c750aca23\", \"de...  \n",
       "1  [{\"credit_id\": \"52fe4232c3a36847f800b579\", \"de...  \n",
       "2  [{\"credit_id\": \"54805967c3a36829b5002c41\", \"de...  \n",
       "3  [{\"credit_id\": \"52fe4781c3a36847f81398c3\", \"de...  \n",
       "4  [{\"credit_id\": \"52fe479ac3a36847f813eaa3\", \"de...  "
      ]
     },
     "execution_count": 6,
     "metadata": {},
     "output_type": "execute_result"
    }
   ],
   "source": [
    "credit.head()"
   ]
  },
  {
   "cell_type": "code",
   "execution_count": 8,
   "id": "a0f5187c",
   "metadata": {},
   "outputs": [],
   "source": [
    "\n",
    "def fetch_dir(obj):\n",
    "    L = []\n",
    "    \n",
    "    for i in ast.literal_eval(obj):\n",
    "        if i['job'] == 'Director':\n",
    "            L.append(i['name'])\n",
    "            \n",
    "            break\n",
    "    return L \n",
    "\n",
    "# Applying the function to each row of the 'cast' column\n",
    "credit['crew']= credit['crew'].apply(fetch_dir)"
   ]
  },
  {
   "cell_type": "code",
   "execution_count": 9,
   "id": "e199d54c",
   "metadata": {},
   "outputs": [
    {
     "data": {
      "text/html": [
       "<div>\n",
       "<style scoped>\n",
       "    .dataframe tbody tr th:only-of-type {\n",
       "        vertical-align: middle;\n",
       "    }\n",
       "\n",
       "    .dataframe tbody tr th {\n",
       "        vertical-align: top;\n",
       "    }\n",
       "\n",
       "    .dataframe thead th {\n",
       "        text-align: right;\n",
       "    }\n",
       "</style>\n",
       "<table border=\"1\" class=\"dataframe\">\n",
       "  <thead>\n",
       "    <tr style=\"text-align: right;\">\n",
       "      <th></th>\n",
       "      <th>movie_id</th>\n",
       "      <th>title</th>\n",
       "      <th>cast</th>\n",
       "      <th>crew</th>\n",
       "    </tr>\n",
       "  </thead>\n",
       "  <tbody>\n",
       "    <tr>\n",
       "      <th>0</th>\n",
       "      <td>19995</td>\n",
       "      <td>Avatar</td>\n",
       "      <td>[Sam Worthington, Zoe Saldana, Sigourney Weaver]</td>\n",
       "      <td>[James Cameron]</td>\n",
       "    </tr>\n",
       "    <tr>\n",
       "      <th>1</th>\n",
       "      <td>285</td>\n",
       "      <td>Pirates of the Caribbean: At World's End</td>\n",
       "      <td>[Johnny Depp, Orlando Bloom, Keira Knightley]</td>\n",
       "      <td>[Gore Verbinski]</td>\n",
       "    </tr>\n",
       "    <tr>\n",
       "      <th>2</th>\n",
       "      <td>206647</td>\n",
       "      <td>Spectre</td>\n",
       "      <td>[Daniel Craig, Christoph Waltz, Léa Seydoux]</td>\n",
       "      <td>[Sam Mendes]</td>\n",
       "    </tr>\n",
       "    <tr>\n",
       "      <th>3</th>\n",
       "      <td>49026</td>\n",
       "      <td>The Dark Knight Rises</td>\n",
       "      <td>[Christian Bale, Michael Caine, Gary Oldman]</td>\n",
       "      <td>[Christopher Nolan]</td>\n",
       "    </tr>\n",
       "    <tr>\n",
       "      <th>4</th>\n",
       "      <td>49529</td>\n",
       "      <td>John Carter</td>\n",
       "      <td>[Taylor Kitsch, Lynn Collins, Samantha Morton]</td>\n",
       "      <td>[Andrew Stanton]</td>\n",
       "    </tr>\n",
       "  </tbody>\n",
       "</table>\n",
       "</div>"
      ],
      "text/plain": [
       "   movie_id                                     title  \\\n",
       "0     19995                                    Avatar   \n",
       "1       285  Pirates of the Caribbean: At World's End   \n",
       "2    206647                                   Spectre   \n",
       "3     49026                     The Dark Knight Rises   \n",
       "4     49529                               John Carter   \n",
       "\n",
       "                                               cast                 crew  \n",
       "0  [Sam Worthington, Zoe Saldana, Sigourney Weaver]      [James Cameron]  \n",
       "1     [Johnny Depp, Orlando Bloom, Keira Knightley]     [Gore Verbinski]  \n",
       "2      [Daniel Craig, Christoph Waltz, Léa Seydoux]         [Sam Mendes]  \n",
       "3      [Christian Bale, Michael Caine, Gary Oldman]  [Christopher Nolan]  \n",
       "4    [Taylor Kitsch, Lynn Collins, Samantha Morton]     [Andrew Stanton]  "
      ]
     },
     "execution_count": 9,
     "metadata": {},
     "output_type": "execute_result"
    }
   ],
   "source": [
    "credit.head()"
   ]
  },
  {
   "cell_type": "code",
   "execution_count": 32,
   "id": "00280e0a",
   "metadata": {},
   "outputs": [],
   "source": [
    "mov=mov.merge(credit,on='title')"
   ]
  },
  {
   "cell_type": "code",
   "execution_count": 33,
   "id": "a56cd605",
   "metadata": {},
   "outputs": [
    {
     "data": {
      "text/html": [
       "<div>\n",
       "<style scoped>\n",
       "    .dataframe tbody tr th:only-of-type {\n",
       "        vertical-align: middle;\n",
       "    }\n",
       "\n",
       "    .dataframe tbody tr th {\n",
       "        vertical-align: top;\n",
       "    }\n",
       "\n",
       "    .dataframe thead th {\n",
       "        text-align: right;\n",
       "    }\n",
       "</style>\n",
       "<table border=\"1\" class=\"dataframe\">\n",
       "  <thead>\n",
       "    <tr style=\"text-align: right;\">\n",
       "      <th></th>\n",
       "      <th>movie_id_x</th>\n",
       "      <th>title</th>\n",
       "      <th>overview</th>\n",
       "      <th>genres</th>\n",
       "      <th>keywords</th>\n",
       "      <th>cast_x</th>\n",
       "      <th>cast_x</th>\n",
       "      <th>movie_id_y</th>\n",
       "      <th>cast_y</th>\n",
       "      <th>crew_x</th>\n",
       "      <th>movie_id</th>\n",
       "      <th>cast</th>\n",
       "      <th>crew_y</th>\n",
       "    </tr>\n",
       "  </thead>\n",
       "  <tbody>\n",
       "    <tr>\n",
       "      <th>0</th>\n",
       "      <td>19995</td>\n",
       "      <td>Avatar</td>\n",
       "      <td>In the 22nd century, a paraplegic Marine is di...</td>\n",
       "      <td>[Action, Adventure, Fantasy, Science Fiction]</td>\n",
       "      <td>[culture clash, future, space war, space colon...</td>\n",
       "      <td>[Sam Worthington, Zoe Saldana, Sigourney Weaver]</td>\n",
       "      <td>[Sam Worthington, Zoe Saldana, Sigourney Weaver]</td>\n",
       "      <td>19995</td>\n",
       "      <td>[Sam Worthington, Zoe Saldana, Sigourney Weaver]</td>\n",
       "      <td>[James Cameron]</td>\n",
       "      <td>19995</td>\n",
       "      <td>[Sam Worthington, Zoe Saldana, Sigourney Weaver]</td>\n",
       "      <td>[James Cameron]</td>\n",
       "    </tr>\n",
       "    <tr>\n",
       "      <th>1</th>\n",
       "      <td>285</td>\n",
       "      <td>Pirates of the Caribbean: At World's End</td>\n",
       "      <td>Captain Barbossa, long believed to be dead, ha...</td>\n",
       "      <td>[Adventure, Fantasy, Action]</td>\n",
       "      <td>[ocean, drug abuse, exotic island, east india ...</td>\n",
       "      <td>[Johnny Depp, Orlando Bloom, Keira Knightley]</td>\n",
       "      <td>[Johnny Depp, Orlando Bloom, Keira Knightley]</td>\n",
       "      <td>285</td>\n",
       "      <td>[Johnny Depp, Orlando Bloom, Keira Knightley]</td>\n",
       "      <td>[Gore Verbinski]</td>\n",
       "      <td>285</td>\n",
       "      <td>[Johnny Depp, Orlando Bloom, Keira Knightley]</td>\n",
       "      <td>[Gore Verbinski]</td>\n",
       "    </tr>\n",
       "    <tr>\n",
       "      <th>2</th>\n",
       "      <td>206647</td>\n",
       "      <td>Spectre</td>\n",
       "      <td>A cryptic message from Bond’s past sends him o...</td>\n",
       "      <td>[Action, Adventure, Crime]</td>\n",
       "      <td>[spy, based on novel, secret agent, sequel, mi...</td>\n",
       "      <td>[Daniel Craig, Christoph Waltz, Léa Seydoux]</td>\n",
       "      <td>[Daniel Craig, Christoph Waltz, Léa Seydoux]</td>\n",
       "      <td>206647</td>\n",
       "      <td>[Daniel Craig, Christoph Waltz, Léa Seydoux]</td>\n",
       "      <td>[Sam Mendes]</td>\n",
       "      <td>206647</td>\n",
       "      <td>[Daniel Craig, Christoph Waltz, Léa Seydoux]</td>\n",
       "      <td>[Sam Mendes]</td>\n",
       "    </tr>\n",
       "    <tr>\n",
       "      <th>3</th>\n",
       "      <td>49026</td>\n",
       "      <td>The Dark Knight Rises</td>\n",
       "      <td>Following the death of District Attorney Harve...</td>\n",
       "      <td>[Action, Crime, Drama, Thriller]</td>\n",
       "      <td>[dc comics, crime fighter, terrorist, secret i...</td>\n",
       "      <td>[Christian Bale, Michael Caine, Gary Oldman]</td>\n",
       "      <td>[Christian Bale, Michael Caine, Gary Oldman]</td>\n",
       "      <td>49026</td>\n",
       "      <td>[Christian Bale, Michael Caine, Gary Oldman]</td>\n",
       "      <td>[Christopher Nolan]</td>\n",
       "      <td>49026</td>\n",
       "      <td>[Christian Bale, Michael Caine, Gary Oldman]</td>\n",
       "      <td>[Christopher Nolan]</td>\n",
       "    </tr>\n",
       "    <tr>\n",
       "      <th>4</th>\n",
       "      <td>49529</td>\n",
       "      <td>John Carter</td>\n",
       "      <td>John Carter is a war-weary, former military ca...</td>\n",
       "      <td>[Action, Adventure, Science Fiction]</td>\n",
       "      <td>[based on novel, mars, medallion, space travel...</td>\n",
       "      <td>[Taylor Kitsch, Lynn Collins, Samantha Morton]</td>\n",
       "      <td>[Taylor Kitsch, Lynn Collins, Samantha Morton]</td>\n",
       "      <td>49529</td>\n",
       "      <td>[Taylor Kitsch, Lynn Collins, Samantha Morton]</td>\n",
       "      <td>[Andrew Stanton]</td>\n",
       "      <td>49529</td>\n",
       "      <td>[Taylor Kitsch, Lynn Collins, Samantha Morton]</td>\n",
       "      <td>[Andrew Stanton]</td>\n",
       "    </tr>\n",
       "  </tbody>\n",
       "</table>\n",
       "</div>"
      ],
      "text/plain": [
       "   movie_id_x                                     title  \\\n",
       "0       19995                                    Avatar   \n",
       "1         285  Pirates of the Caribbean: At World's End   \n",
       "2      206647                                   Spectre   \n",
       "3       49026                     The Dark Knight Rises   \n",
       "4       49529                               John Carter   \n",
       "\n",
       "                                            overview  \\\n",
       "0  In the 22nd century, a paraplegic Marine is di...   \n",
       "1  Captain Barbossa, long believed to be dead, ha...   \n",
       "2  A cryptic message from Bond’s past sends him o...   \n",
       "3  Following the death of District Attorney Harve...   \n",
       "4  John Carter is a war-weary, former military ca...   \n",
       "\n",
       "                                          genres  \\\n",
       "0  [Action, Adventure, Fantasy, Science Fiction]   \n",
       "1                   [Adventure, Fantasy, Action]   \n",
       "2                     [Action, Adventure, Crime]   \n",
       "3               [Action, Crime, Drama, Thriller]   \n",
       "4           [Action, Adventure, Science Fiction]   \n",
       "\n",
       "                                            keywords  \\\n",
       "0  [culture clash, future, space war, space colon...   \n",
       "1  [ocean, drug abuse, exotic island, east india ...   \n",
       "2  [spy, based on novel, secret agent, sequel, mi...   \n",
       "3  [dc comics, crime fighter, terrorist, secret i...   \n",
       "4  [based on novel, mars, medallion, space travel...   \n",
       "\n",
       "                                             cast_x  \\\n",
       "0  [Sam Worthington, Zoe Saldana, Sigourney Weaver]   \n",
       "1     [Johnny Depp, Orlando Bloom, Keira Knightley]   \n",
       "2      [Daniel Craig, Christoph Waltz, Léa Seydoux]   \n",
       "3      [Christian Bale, Michael Caine, Gary Oldman]   \n",
       "4    [Taylor Kitsch, Lynn Collins, Samantha Morton]   \n",
       "\n",
       "                                             cast_x  movie_id_y  \\\n",
       "0  [Sam Worthington, Zoe Saldana, Sigourney Weaver]       19995   \n",
       "1     [Johnny Depp, Orlando Bloom, Keira Knightley]         285   \n",
       "2      [Daniel Craig, Christoph Waltz, Léa Seydoux]      206647   \n",
       "3      [Christian Bale, Michael Caine, Gary Oldman]       49026   \n",
       "4    [Taylor Kitsch, Lynn Collins, Samantha Morton]       49529   \n",
       "\n",
       "                                             cast_y               crew_x  \\\n",
       "0  [Sam Worthington, Zoe Saldana, Sigourney Weaver]      [James Cameron]   \n",
       "1     [Johnny Depp, Orlando Bloom, Keira Knightley]     [Gore Verbinski]   \n",
       "2      [Daniel Craig, Christoph Waltz, Léa Seydoux]         [Sam Mendes]   \n",
       "3      [Christian Bale, Michael Caine, Gary Oldman]  [Christopher Nolan]   \n",
       "4    [Taylor Kitsch, Lynn Collins, Samantha Morton]     [Andrew Stanton]   \n",
       "\n",
       "   movie_id                                              cast  \\\n",
       "0     19995  [Sam Worthington, Zoe Saldana, Sigourney Weaver]   \n",
       "1       285     [Johnny Depp, Orlando Bloom, Keira Knightley]   \n",
       "2    206647      [Daniel Craig, Christoph Waltz, Léa Seydoux]   \n",
       "3     49026      [Christian Bale, Michael Caine, Gary Oldman]   \n",
       "4     49529    [Taylor Kitsch, Lynn Collins, Samantha Morton]   \n",
       "\n",
       "                crew_y  \n",
       "0      [James Cameron]  \n",
       "1     [Gore Verbinski]  \n",
       "2         [Sam Mendes]  \n",
       "3  [Christopher Nolan]  \n",
       "4     [Andrew Stanton]  "
      ]
     },
     "execution_count": 33,
     "metadata": {},
     "output_type": "execute_result"
    }
   ],
   "source": [
    "mov.head()"
   ]
  },
  {
   "cell_type": "code",
   "execution_count": 30,
   "id": "b7b53194",
   "metadata": {},
   "outputs": [
    {
     "name": "stdout",
     "output_type": "stream",
     "text": [
      "<class 'pandas.core.frame.DataFrame'>\n",
      "RangeIndex: 4818 entries, 0 to 4817\n",
      "Data columns (total 10 columns):\n",
      " #   Column      Non-Null Count  Dtype \n",
      "---  ------      --------------  ----- \n",
      " 0   movie_id_x  4818 non-null   int64 \n",
      " 1   title       4818 non-null   object\n",
      " 2   overview    4818 non-null   object\n",
      " 3   genres      4818 non-null   object\n",
      " 4   keywords    4818 non-null   object\n",
      " 5   cast_x      4818 non-null   object\n",
      " 6   cast_x      4818 non-null   object\n",
      " 7   movie_id_y  4818 non-null   int64 \n",
      " 8   cast_y      4818 non-null   object\n",
      " 9   crew        4818 non-null   object\n",
      "dtypes: int64(2), object(8)\n",
      "memory usage: 376.5+ KB\n"
     ]
    }
   ],
   "source": [
    "mov.info()"
   ]
  },
  {
   "cell_type": "code",
   "execution_count": 50,
   "id": "58310155",
   "metadata": {},
   "outputs": [
    {
     "data": {
      "text/plain": [
       "(4842, 7)"
      ]
     },
     "execution_count": 50,
     "metadata": {},
     "output_type": "execute_result"
    }
   ],
   "source": [
    "mov.shape"
   ]
  },
  {
   "cell_type": "code",
   "execution_count": 34,
   "id": "0dda7a16",
   "metadata": {},
   "outputs": [],
   "source": [
    "#dropping columns apart from these columns\n",
    "mov=mov[['movie_id_x','title','overview','genres','keywords','cast','crew_x']]"
   ]
  },
  {
   "cell_type": "code",
   "execution_count": 35,
   "id": "8916d711",
   "metadata": {},
   "outputs": [
    {
     "data": {
      "text/html": [
       "<div>\n",
       "<style scoped>\n",
       "    .dataframe tbody tr th:only-of-type {\n",
       "        vertical-align: middle;\n",
       "    }\n",
       "\n",
       "    .dataframe tbody tr th {\n",
       "        vertical-align: top;\n",
       "    }\n",
       "\n",
       "    .dataframe thead th {\n",
       "        text-align: right;\n",
       "    }\n",
       "</style>\n",
       "<table border=\"1\" class=\"dataframe\">\n",
       "  <thead>\n",
       "    <tr style=\"text-align: right;\">\n",
       "      <th></th>\n",
       "      <th>movie_id_x</th>\n",
       "      <th>title</th>\n",
       "      <th>overview</th>\n",
       "      <th>genres</th>\n",
       "      <th>keywords</th>\n",
       "      <th>cast</th>\n",
       "      <th>crew_x</th>\n",
       "    </tr>\n",
       "  </thead>\n",
       "  <tbody>\n",
       "    <tr>\n",
       "      <th>0</th>\n",
       "      <td>19995</td>\n",
       "      <td>Avatar</td>\n",
       "      <td>In the 22nd century, a paraplegic Marine is di...</td>\n",
       "      <td>[Action, Adventure, Fantasy, Science Fiction]</td>\n",
       "      <td>[culture clash, future, space war, space colon...</td>\n",
       "      <td>[Sam Worthington, Zoe Saldana, Sigourney Weaver]</td>\n",
       "      <td>[James Cameron]</td>\n",
       "    </tr>\n",
       "    <tr>\n",
       "      <th>1</th>\n",
       "      <td>285</td>\n",
       "      <td>Pirates of the Caribbean: At World's End</td>\n",
       "      <td>Captain Barbossa, long believed to be dead, ha...</td>\n",
       "      <td>[Adventure, Fantasy, Action]</td>\n",
       "      <td>[ocean, drug abuse, exotic island, east india ...</td>\n",
       "      <td>[Johnny Depp, Orlando Bloom, Keira Knightley]</td>\n",
       "      <td>[Gore Verbinski]</td>\n",
       "    </tr>\n",
       "    <tr>\n",
       "      <th>2</th>\n",
       "      <td>206647</td>\n",
       "      <td>Spectre</td>\n",
       "      <td>A cryptic message from Bond’s past sends him o...</td>\n",
       "      <td>[Action, Adventure, Crime]</td>\n",
       "      <td>[spy, based on novel, secret agent, sequel, mi...</td>\n",
       "      <td>[Daniel Craig, Christoph Waltz, Léa Seydoux]</td>\n",
       "      <td>[Sam Mendes]</td>\n",
       "    </tr>\n",
       "    <tr>\n",
       "      <th>3</th>\n",
       "      <td>49026</td>\n",
       "      <td>The Dark Knight Rises</td>\n",
       "      <td>Following the death of District Attorney Harve...</td>\n",
       "      <td>[Action, Crime, Drama, Thriller]</td>\n",
       "      <td>[dc comics, crime fighter, terrorist, secret i...</td>\n",
       "      <td>[Christian Bale, Michael Caine, Gary Oldman]</td>\n",
       "      <td>[Christopher Nolan]</td>\n",
       "    </tr>\n",
       "    <tr>\n",
       "      <th>4</th>\n",
       "      <td>49529</td>\n",
       "      <td>John Carter</td>\n",
       "      <td>John Carter is a war-weary, former military ca...</td>\n",
       "      <td>[Action, Adventure, Science Fiction]</td>\n",
       "      <td>[based on novel, mars, medallion, space travel...</td>\n",
       "      <td>[Taylor Kitsch, Lynn Collins, Samantha Morton]</td>\n",
       "      <td>[Andrew Stanton]</td>\n",
       "    </tr>\n",
       "  </tbody>\n",
       "</table>\n",
       "</div>"
      ],
      "text/plain": [
       "   movie_id_x                                     title  \\\n",
       "0       19995                                    Avatar   \n",
       "1         285  Pirates of the Caribbean: At World's End   \n",
       "2      206647                                   Spectre   \n",
       "3       49026                     The Dark Knight Rises   \n",
       "4       49529                               John Carter   \n",
       "\n",
       "                                            overview  \\\n",
       "0  In the 22nd century, a paraplegic Marine is di...   \n",
       "1  Captain Barbossa, long believed to be dead, ha...   \n",
       "2  A cryptic message from Bond’s past sends him o...   \n",
       "3  Following the death of District Attorney Harve...   \n",
       "4  John Carter is a war-weary, former military ca...   \n",
       "\n",
       "                                          genres  \\\n",
       "0  [Action, Adventure, Fantasy, Science Fiction]   \n",
       "1                   [Adventure, Fantasy, Action]   \n",
       "2                     [Action, Adventure, Crime]   \n",
       "3               [Action, Crime, Drama, Thriller]   \n",
       "4           [Action, Adventure, Science Fiction]   \n",
       "\n",
       "                                            keywords  \\\n",
       "0  [culture clash, future, space war, space colon...   \n",
       "1  [ocean, drug abuse, exotic island, east india ...   \n",
       "2  [spy, based on novel, secret agent, sequel, mi...   \n",
       "3  [dc comics, crime fighter, terrorist, secret i...   \n",
       "4  [based on novel, mars, medallion, space travel...   \n",
       "\n",
       "                                               cast               crew_x  \n",
       "0  [Sam Worthington, Zoe Saldana, Sigourney Weaver]      [James Cameron]  \n",
       "1     [Johnny Depp, Orlando Bloom, Keira Knightley]     [Gore Verbinski]  \n",
       "2      [Daniel Craig, Christoph Waltz, Léa Seydoux]         [Sam Mendes]  \n",
       "3      [Christian Bale, Michael Caine, Gary Oldman]  [Christopher Nolan]  \n",
       "4    [Taylor Kitsch, Lynn Collins, Samantha Morton]     [Andrew Stanton]  "
      ]
     },
     "execution_count": 35,
     "metadata": {},
     "output_type": "execute_result"
    }
   ],
   "source": [
    "mov.head()"
   ]
  },
  {
   "cell_type": "code",
   "execution_count": 38,
   "id": "9bfe15be",
   "metadata": {},
   "outputs": [],
   "source": [
    "mov.dropna(inplace=True)"
   ]
  },
  {
   "cell_type": "code",
   "execution_count": 39,
   "id": "327f6485",
   "metadata": {},
   "outputs": [
    {
     "data": {
      "text/plain": [
       "movie_id_x    0\n",
       "title         0\n",
       "overview      0\n",
       "genres        0\n",
       "keywords      0\n",
       "cast          0\n",
       "crew_x        0\n",
       "dtype: int64"
      ]
     },
     "execution_count": 39,
     "metadata": {},
     "output_type": "execute_result"
    }
   ],
   "source": [
    "mov.isnull().sum()"
   ]
  },
  {
   "cell_type": "code",
   "execution_count": 19,
   "id": "65d6ddb1",
   "metadata": {},
   "outputs": [],
   "source": [
    "import ast\n",
    "def convert(obj):\n",
    "    L=[]\n",
    "    for i in ast.literal_eval(obj):\n",
    "        L.append(i['name'])\n",
    "    return L    "
   ]
  },
  {
   "cell_type": "code",
   "execution_count": 20,
   "id": "d960882b",
   "metadata": {},
   "outputs": [],
   "source": [
    "mov['genres']=mov['genres'].apply(convert)"
   ]
  },
  {
   "cell_type": "code",
   "execution_count": 116,
   "id": "d31a7c0d",
   "metadata": {},
   "outputs": [
    {
     "data": {
      "text/html": [
       "<div>\n",
       "<style scoped>\n",
       "    .dataframe tbody tr th:only-of-type {\n",
       "        vertical-align: middle;\n",
       "    }\n",
       "\n",
       "    .dataframe tbody tr th {\n",
       "        vertical-align: top;\n",
       "    }\n",
       "\n",
       "    .dataframe thead th {\n",
       "        text-align: right;\n",
       "    }\n",
       "</style>\n",
       "<table border=\"1\" class=\"dataframe\">\n",
       "  <thead>\n",
       "    <tr style=\"text-align: right;\">\n",
       "      <th></th>\n",
       "      <th>movie_id</th>\n",
       "      <th>title</th>\n",
       "      <th>overview</th>\n",
       "      <th>genres</th>\n",
       "      <th>keywords</th>\n",
       "      <th>cast</th>\n",
       "      <th>cast</th>\n",
       "    </tr>\n",
       "  </thead>\n",
       "  <tbody>\n",
       "    <tr>\n",
       "      <th>0</th>\n",
       "      <td>19995</td>\n",
       "      <td>Avatar</td>\n",
       "      <td>In the 22nd century, a paraplegic Marine is di...</td>\n",
       "      <td>[Action, Adventure, Fantasy, Science Fiction]</td>\n",
       "      <td>[{\"id\": 1463, \"name\": \"culture clash\"}, {\"id\":...</td>\n",
       "      <td>[{\"cast_id\": 242, \"character\": \"Jake Sully\", \"...</td>\n",
       "      <td>[{\"cast_id\": 242, \"character\": \"Jake Sully\", \"...</td>\n",
       "    </tr>\n",
       "    <tr>\n",
       "      <th>1</th>\n",
       "      <td>285</td>\n",
       "      <td>Pirates of the Caribbean: At World's End</td>\n",
       "      <td>Captain Barbossa, long believed to be dead, ha...</td>\n",
       "      <td>[Adventure, Fantasy, Action]</td>\n",
       "      <td>[{\"id\": 270, \"name\": \"ocean\"}, {\"id\": 726, \"na...</td>\n",
       "      <td>[{\"cast_id\": 4, \"character\": \"Captain Jack Spa...</td>\n",
       "      <td>[{\"cast_id\": 4, \"character\": \"Captain Jack Spa...</td>\n",
       "    </tr>\n",
       "    <tr>\n",
       "      <th>2</th>\n",
       "      <td>206647</td>\n",
       "      <td>Spectre</td>\n",
       "      <td>A cryptic message from Bond’s past sends him o...</td>\n",
       "      <td>[Action, Adventure, Crime]</td>\n",
       "      <td>[{\"id\": 470, \"name\": \"spy\"}, {\"id\": 818, \"name...</td>\n",
       "      <td>[{\"cast_id\": 1, \"character\": \"James Bond\", \"cr...</td>\n",
       "      <td>[{\"cast_id\": 1, \"character\": \"James Bond\", \"cr...</td>\n",
       "    </tr>\n",
       "    <tr>\n",
       "      <th>3</th>\n",
       "      <td>49026</td>\n",
       "      <td>The Dark Knight Rises</td>\n",
       "      <td>Following the death of District Attorney Harve...</td>\n",
       "      <td>[Action, Crime, Drama, Thriller]</td>\n",
       "      <td>[{\"id\": 849, \"name\": \"dc comics\"}, {\"id\": 853,...</td>\n",
       "      <td>[{\"cast_id\": 2, \"character\": \"Bruce Wayne / Ba...</td>\n",
       "      <td>[{\"cast_id\": 2, \"character\": \"Bruce Wayne / Ba...</td>\n",
       "    </tr>\n",
       "    <tr>\n",
       "      <th>4</th>\n",
       "      <td>49529</td>\n",
       "      <td>John Carter</td>\n",
       "      <td>John Carter is a war-weary, former military ca...</td>\n",
       "      <td>[Action, Adventure, Science Fiction]</td>\n",
       "      <td>[{\"id\": 818, \"name\": \"based on novel\"}, {\"id\":...</td>\n",
       "      <td>[{\"cast_id\": 5, \"character\": \"John Carter\", \"c...</td>\n",
       "      <td>[{\"cast_id\": 5, \"character\": \"John Carter\", \"c...</td>\n",
       "    </tr>\n",
       "  </tbody>\n",
       "</table>\n",
       "</div>"
      ],
      "text/plain": [
       "   movie_id                                     title  \\\n",
       "0     19995                                    Avatar   \n",
       "1       285  Pirates of the Caribbean: At World's End   \n",
       "2    206647                                   Spectre   \n",
       "3     49026                     The Dark Knight Rises   \n",
       "4     49529                               John Carter   \n",
       "\n",
       "                                            overview  \\\n",
       "0  In the 22nd century, a paraplegic Marine is di...   \n",
       "1  Captain Barbossa, long believed to be dead, ha...   \n",
       "2  A cryptic message from Bond’s past sends him o...   \n",
       "3  Following the death of District Attorney Harve...   \n",
       "4  John Carter is a war-weary, former military ca...   \n",
       "\n",
       "                                          genres  \\\n",
       "0  [Action, Adventure, Fantasy, Science Fiction]   \n",
       "1                   [Adventure, Fantasy, Action]   \n",
       "2                     [Action, Adventure, Crime]   \n",
       "3               [Action, Crime, Drama, Thriller]   \n",
       "4           [Action, Adventure, Science Fiction]   \n",
       "\n",
       "                                            keywords  \\\n",
       "0  [{\"id\": 1463, \"name\": \"culture clash\"}, {\"id\":...   \n",
       "1  [{\"id\": 270, \"name\": \"ocean\"}, {\"id\": 726, \"na...   \n",
       "2  [{\"id\": 470, \"name\": \"spy\"}, {\"id\": 818, \"name...   \n",
       "3  [{\"id\": 849, \"name\": \"dc comics\"}, {\"id\": 853,...   \n",
       "4  [{\"id\": 818, \"name\": \"based on novel\"}, {\"id\":...   \n",
       "\n",
       "                                                cast  \\\n",
       "0  [{\"cast_id\": 242, \"character\": \"Jake Sully\", \"...   \n",
       "1  [{\"cast_id\": 4, \"character\": \"Captain Jack Spa...   \n",
       "2  [{\"cast_id\": 1, \"character\": \"James Bond\", \"cr...   \n",
       "3  [{\"cast_id\": 2, \"character\": \"Bruce Wayne / Ba...   \n",
       "4  [{\"cast_id\": 5, \"character\": \"John Carter\", \"c...   \n",
       "\n",
       "                                                cast  \n",
       "0  [{\"cast_id\": 242, \"character\": \"Jake Sully\", \"...  \n",
       "1  [{\"cast_id\": 4, \"character\": \"Captain Jack Spa...  \n",
       "2  [{\"cast_id\": 1, \"character\": \"James Bond\", \"cr...  \n",
       "3  [{\"cast_id\": 2, \"character\": \"Bruce Wayne / Ba...  \n",
       "4  [{\"cast_id\": 5, \"character\": \"John Carter\", \"c...  "
      ]
     },
     "execution_count": 116,
     "metadata": {},
     "output_type": "execute_result"
    }
   ],
   "source": [
    "mov.head()"
   ]
  },
  {
   "cell_type": "code",
   "execution_count": 21,
   "id": "a2e018cb",
   "metadata": {},
   "outputs": [
    {
     "data": {
      "text/html": [
       "<div>\n",
       "<style scoped>\n",
       "    .dataframe tbody tr th:only-of-type {\n",
       "        vertical-align: middle;\n",
       "    }\n",
       "\n",
       "    .dataframe tbody tr th {\n",
       "        vertical-align: top;\n",
       "    }\n",
       "\n",
       "    .dataframe thead th {\n",
       "        text-align: right;\n",
       "    }\n",
       "</style>\n",
       "<table border=\"1\" class=\"dataframe\">\n",
       "  <thead>\n",
       "    <tr style=\"text-align: right;\">\n",
       "      <th></th>\n",
       "      <th>movie_id</th>\n",
       "      <th>title</th>\n",
       "      <th>overview</th>\n",
       "      <th>genres</th>\n",
       "      <th>keywords</th>\n",
       "      <th>cast</th>\n",
       "      <th>cast</th>\n",
       "    </tr>\n",
       "  </thead>\n",
       "  <tbody>\n",
       "    <tr>\n",
       "      <th>0</th>\n",
       "      <td>19995</td>\n",
       "      <td>Avatar</td>\n",
       "      <td>In the 22nd century, a paraplegic Marine is di...</td>\n",
       "      <td>[Action, Adventure, Fantasy, Science Fiction]</td>\n",
       "      <td>[culture clash, future, space war, space colon...</td>\n",
       "      <td>[Sam Worthington, Zoe Saldana, Sigourney Weaver]</td>\n",
       "      <td>[Sam Worthington, Zoe Saldana, Sigourney Weaver]</td>\n",
       "    </tr>\n",
       "    <tr>\n",
       "      <th>1</th>\n",
       "      <td>285</td>\n",
       "      <td>Pirates of the Caribbean: At World's End</td>\n",
       "      <td>Captain Barbossa, long believed to be dead, ha...</td>\n",
       "      <td>[Adventure, Fantasy, Action]</td>\n",
       "      <td>[ocean, drug abuse, exotic island, east india ...</td>\n",
       "      <td>[Johnny Depp, Orlando Bloom, Keira Knightley]</td>\n",
       "      <td>[Johnny Depp, Orlando Bloom, Keira Knightley]</td>\n",
       "    </tr>\n",
       "    <tr>\n",
       "      <th>2</th>\n",
       "      <td>206647</td>\n",
       "      <td>Spectre</td>\n",
       "      <td>A cryptic message from Bond’s past sends him o...</td>\n",
       "      <td>[Action, Adventure, Crime]</td>\n",
       "      <td>[spy, based on novel, secret agent, sequel, mi...</td>\n",
       "      <td>[Daniel Craig, Christoph Waltz, Léa Seydoux]</td>\n",
       "      <td>[Daniel Craig, Christoph Waltz, Léa Seydoux]</td>\n",
       "    </tr>\n",
       "    <tr>\n",
       "      <th>3</th>\n",
       "      <td>49026</td>\n",
       "      <td>The Dark Knight Rises</td>\n",
       "      <td>Following the death of District Attorney Harve...</td>\n",
       "      <td>[Action, Crime, Drama, Thriller]</td>\n",
       "      <td>[dc comics, crime fighter, terrorist, secret i...</td>\n",
       "      <td>[Christian Bale, Michael Caine, Gary Oldman]</td>\n",
       "      <td>[Christian Bale, Michael Caine, Gary Oldman]</td>\n",
       "    </tr>\n",
       "    <tr>\n",
       "      <th>4</th>\n",
       "      <td>49529</td>\n",
       "      <td>John Carter</td>\n",
       "      <td>John Carter is a war-weary, former military ca...</td>\n",
       "      <td>[Action, Adventure, Science Fiction]</td>\n",
       "      <td>[based on novel, mars, medallion, space travel...</td>\n",
       "      <td>[Taylor Kitsch, Lynn Collins, Samantha Morton]</td>\n",
       "      <td>[Taylor Kitsch, Lynn Collins, Samantha Morton]</td>\n",
       "    </tr>\n",
       "  </tbody>\n",
       "</table>\n",
       "</div>"
      ],
      "text/plain": [
       "   movie_id                                     title  \\\n",
       "0     19995                                    Avatar   \n",
       "1       285  Pirates of the Caribbean: At World's End   \n",
       "2    206647                                   Spectre   \n",
       "3     49026                     The Dark Knight Rises   \n",
       "4     49529                               John Carter   \n",
       "\n",
       "                                            overview  \\\n",
       "0  In the 22nd century, a paraplegic Marine is di...   \n",
       "1  Captain Barbossa, long believed to be dead, ha...   \n",
       "2  A cryptic message from Bond’s past sends him o...   \n",
       "3  Following the death of District Attorney Harve...   \n",
       "4  John Carter is a war-weary, former military ca...   \n",
       "\n",
       "                                          genres  \\\n",
       "0  [Action, Adventure, Fantasy, Science Fiction]   \n",
       "1                   [Adventure, Fantasy, Action]   \n",
       "2                     [Action, Adventure, Crime]   \n",
       "3               [Action, Crime, Drama, Thriller]   \n",
       "4           [Action, Adventure, Science Fiction]   \n",
       "\n",
       "                                            keywords  \\\n",
       "0  [culture clash, future, space war, space colon...   \n",
       "1  [ocean, drug abuse, exotic island, east india ...   \n",
       "2  [spy, based on novel, secret agent, sequel, mi...   \n",
       "3  [dc comics, crime fighter, terrorist, secret i...   \n",
       "4  [based on novel, mars, medallion, space travel...   \n",
       "\n",
       "                                               cast  \\\n",
       "0  [Sam Worthington, Zoe Saldana, Sigourney Weaver]   \n",
       "1     [Johnny Depp, Orlando Bloom, Keira Knightley]   \n",
       "2      [Daniel Craig, Christoph Waltz, Léa Seydoux]   \n",
       "3      [Christian Bale, Michael Caine, Gary Oldman]   \n",
       "4    [Taylor Kitsch, Lynn Collins, Samantha Morton]   \n",
       "\n",
       "                                               cast  \n",
       "0  [Sam Worthington, Zoe Saldana, Sigourney Weaver]  \n",
       "1     [Johnny Depp, Orlando Bloom, Keira Knightley]  \n",
       "2      [Daniel Craig, Christoph Waltz, Léa Seydoux]  \n",
       "3      [Christian Bale, Michael Caine, Gary Oldman]  \n",
       "4    [Taylor Kitsch, Lynn Collins, Samantha Morton]  "
      ]
     },
     "execution_count": 21,
     "metadata": {},
     "output_type": "execute_result"
    }
   ],
   "source": [
    "mov['keywords']=mov['keywords'].apply(convert)\n",
    "mov.head()"
   ]
  },
  {
   "cell_type": "code",
   "execution_count": 40,
   "id": "4da119c1",
   "metadata": {},
   "outputs": [
    {
     "data": {
      "text/plain": [
       "'In the 22nd century, a paraplegic Marine is dispatched to the moon Pandora on a unique mission, but becomes torn between following orders and protecting an alien civilization.'"
      ]
     },
     "execution_count": 40,
     "metadata": {},
     "output_type": "execute_result"
    }
   ],
   "source": [
    "mov['overview'][0]"
   ]
  },
  {
   "cell_type": "code",
   "execution_count": 43,
   "id": "647d4639",
   "metadata": {},
   "outputs": [],
   "source": [
    "#making a list of overview column\n",
    "mov['overview']=mov['overview'].apply(lambda x:x.split())"
   ]
  },
  {
   "cell_type": "code",
   "execution_count": 48,
   "id": "ea580202",
   "metadata": {},
   "outputs": [],
   "source": [
    "#changing column names\n",
    "new_column_names = {'movie_id_x': 'movie_id','crew_x':'crew' }\n",
    "mov.rename(columns=new_column_names, inplace=True)\n"
   ]
  },
  {
   "cell_type": "code",
   "execution_count": 49,
   "id": "94b8de7f",
   "metadata": {},
   "outputs": [
    {
     "data": {
      "text/html": [
       "<div>\n",
       "<style scoped>\n",
       "    .dataframe tbody tr th:only-of-type {\n",
       "        vertical-align: middle;\n",
       "    }\n",
       "\n",
       "    .dataframe tbody tr th {\n",
       "        vertical-align: top;\n",
       "    }\n",
       "\n",
       "    .dataframe thead th {\n",
       "        text-align: right;\n",
       "    }\n",
       "</style>\n",
       "<table border=\"1\" class=\"dataframe\">\n",
       "  <thead>\n",
       "    <tr style=\"text-align: right;\">\n",
       "      <th></th>\n",
       "      <th>movie_id</th>\n",
       "      <th>title</th>\n",
       "      <th>overview</th>\n",
       "      <th>genres</th>\n",
       "      <th>keywords</th>\n",
       "      <th>cast</th>\n",
       "      <th>crew</th>\n",
       "    </tr>\n",
       "  </thead>\n",
       "  <tbody>\n",
       "    <tr>\n",
       "      <th>0</th>\n",
       "      <td>19995</td>\n",
       "      <td>Avatar</td>\n",
       "      <td>[In, the, 22nd, century,, a, paraplegic, Marin...</td>\n",
       "      <td>[Action, Adventure, Fantasy, Science Fiction]</td>\n",
       "      <td>[culture clash, future, space war, space colon...</td>\n",
       "      <td>[Sam Worthington, Zoe Saldana, Sigourney Weaver]</td>\n",
       "      <td>[James Cameron]</td>\n",
       "    </tr>\n",
       "    <tr>\n",
       "      <th>1</th>\n",
       "      <td>285</td>\n",
       "      <td>Pirates of the Caribbean: At World's End</td>\n",
       "      <td>[Captain, Barbossa,, long, believed, to, be, d...</td>\n",
       "      <td>[Adventure, Fantasy, Action]</td>\n",
       "      <td>[ocean, drug abuse, exotic island, east india ...</td>\n",
       "      <td>[Johnny Depp, Orlando Bloom, Keira Knightley]</td>\n",
       "      <td>[Gore Verbinski]</td>\n",
       "    </tr>\n",
       "    <tr>\n",
       "      <th>2</th>\n",
       "      <td>206647</td>\n",
       "      <td>Spectre</td>\n",
       "      <td>[A, cryptic, message, from, Bond’s, past, send...</td>\n",
       "      <td>[Action, Adventure, Crime]</td>\n",
       "      <td>[spy, based on novel, secret agent, sequel, mi...</td>\n",
       "      <td>[Daniel Craig, Christoph Waltz, Léa Seydoux]</td>\n",
       "      <td>[Sam Mendes]</td>\n",
       "    </tr>\n",
       "    <tr>\n",
       "      <th>3</th>\n",
       "      <td>49026</td>\n",
       "      <td>The Dark Knight Rises</td>\n",
       "      <td>[Following, the, death, of, District, Attorney...</td>\n",
       "      <td>[Action, Crime, Drama, Thriller]</td>\n",
       "      <td>[dc comics, crime fighter, terrorist, secret i...</td>\n",
       "      <td>[Christian Bale, Michael Caine, Gary Oldman]</td>\n",
       "      <td>[Christopher Nolan]</td>\n",
       "    </tr>\n",
       "    <tr>\n",
       "      <th>4</th>\n",
       "      <td>49529</td>\n",
       "      <td>John Carter</td>\n",
       "      <td>[John, Carter, is, a, war-weary,, former, mili...</td>\n",
       "      <td>[Action, Adventure, Science Fiction]</td>\n",
       "      <td>[based on novel, mars, medallion, space travel...</td>\n",
       "      <td>[Taylor Kitsch, Lynn Collins, Samantha Morton]</td>\n",
       "      <td>[Andrew Stanton]</td>\n",
       "    </tr>\n",
       "  </tbody>\n",
       "</table>\n",
       "</div>"
      ],
      "text/plain": [
       "   movie_id                                     title  \\\n",
       "0     19995                                    Avatar   \n",
       "1       285  Pirates of the Caribbean: At World's End   \n",
       "2    206647                                   Spectre   \n",
       "3     49026                     The Dark Knight Rises   \n",
       "4     49529                               John Carter   \n",
       "\n",
       "                                            overview  \\\n",
       "0  [In, the, 22nd, century,, a, paraplegic, Marin...   \n",
       "1  [Captain, Barbossa,, long, believed, to, be, d...   \n",
       "2  [A, cryptic, message, from, Bond’s, past, send...   \n",
       "3  [Following, the, death, of, District, Attorney...   \n",
       "4  [John, Carter, is, a, war-weary,, former, mili...   \n",
       "\n",
       "                                          genres  \\\n",
       "0  [Action, Adventure, Fantasy, Science Fiction]   \n",
       "1                   [Adventure, Fantasy, Action]   \n",
       "2                     [Action, Adventure, Crime]   \n",
       "3               [Action, Crime, Drama, Thriller]   \n",
       "4           [Action, Adventure, Science Fiction]   \n",
       "\n",
       "                                            keywords  \\\n",
       "0  [culture clash, future, space war, space colon...   \n",
       "1  [ocean, drug abuse, exotic island, east india ...   \n",
       "2  [spy, based on novel, secret agent, sequel, mi...   \n",
       "3  [dc comics, crime fighter, terrorist, secret i...   \n",
       "4  [based on novel, mars, medallion, space travel...   \n",
       "\n",
       "                                               cast                 crew  \n",
       "0  [Sam Worthington, Zoe Saldana, Sigourney Weaver]      [James Cameron]  \n",
       "1     [Johnny Depp, Orlando Bloom, Keira Knightley]     [Gore Verbinski]  \n",
       "2      [Daniel Craig, Christoph Waltz, Léa Seydoux]         [Sam Mendes]  \n",
       "3      [Christian Bale, Michael Caine, Gary Oldman]  [Christopher Nolan]  \n",
       "4    [Taylor Kitsch, Lynn Collins, Samantha Morton]     [Andrew Stanton]  "
      ]
     },
     "execution_count": 49,
     "metadata": {},
     "output_type": "execute_result"
    }
   ],
   "source": [
    "mov.head()"
   ]
  },
  {
   "cell_type": "code",
   "execution_count": 53,
   "id": "4bf845ec",
   "metadata": {},
   "outputs": [],
   "source": [
    "mov['genres']=mov['genres'].apply(lambda x:[i.replace (\" \", \"\")for i in x])\n",
    "mov['cast']=mov['cast'].apply(lambda x:[i.replace (\" \", \"\")for i in x])\n",
    "mov['keywords']=mov['keywords'].apply(lambda x:[i.replace (\" \", \"\")for i in x])\n",
    "mov['cast']=mov['crew'].apply(lambda x:[i.replace (\" \", \"\")for i in x])"
   ]
  },
  {
   "cell_type": "code",
   "execution_count": 54,
   "id": "08565c13",
   "metadata": {},
   "outputs": [
    {
     "data": {
      "text/html": [
       "<div>\n",
       "<style scoped>\n",
       "    .dataframe tbody tr th:only-of-type {\n",
       "        vertical-align: middle;\n",
       "    }\n",
       "\n",
       "    .dataframe tbody tr th {\n",
       "        vertical-align: top;\n",
       "    }\n",
       "\n",
       "    .dataframe thead th {\n",
       "        text-align: right;\n",
       "    }\n",
       "</style>\n",
       "<table border=\"1\" class=\"dataframe\">\n",
       "  <thead>\n",
       "    <tr style=\"text-align: right;\">\n",
       "      <th></th>\n",
       "      <th>movie_id</th>\n",
       "      <th>title</th>\n",
       "      <th>overview</th>\n",
       "      <th>genres</th>\n",
       "      <th>keywords</th>\n",
       "      <th>cast</th>\n",
       "      <th>crew</th>\n",
       "      <th>tags</th>\n",
       "    </tr>\n",
       "  </thead>\n",
       "  <tbody>\n",
       "    <tr>\n",
       "      <th>0</th>\n",
       "      <td>19995</td>\n",
       "      <td>Avatar</td>\n",
       "      <td>[In, the, 22nd, century,, a, paraplegic, Marin...</td>\n",
       "      <td>[Action, Adventure, Fantasy, ScienceFiction]</td>\n",
       "      <td>[cultureclash, future, spacewar, spacecolony, ...</td>\n",
       "      <td>[JamesCameron]</td>\n",
       "      <td>[James Cameron]</td>\n",
       "      <td>[In, the, 22nd, century,, a, paraplegic, Marin...</td>\n",
       "    </tr>\n",
       "    <tr>\n",
       "      <th>1</th>\n",
       "      <td>285</td>\n",
       "      <td>Pirates of the Caribbean: At World's End</td>\n",
       "      <td>[Captain, Barbossa,, long, believed, to, be, d...</td>\n",
       "      <td>[Adventure, Fantasy, Action]</td>\n",
       "      <td>[ocean, drugabuse, exoticisland, eastindiatrad...</td>\n",
       "      <td>[GoreVerbinski]</td>\n",
       "      <td>[Gore Verbinski]</td>\n",
       "      <td>[Captain, Barbossa,, long, believed, to, be, d...</td>\n",
       "    </tr>\n",
       "    <tr>\n",
       "      <th>2</th>\n",
       "      <td>206647</td>\n",
       "      <td>Spectre</td>\n",
       "      <td>[A, cryptic, message, from, Bond’s, past, send...</td>\n",
       "      <td>[Action, Adventure, Crime]</td>\n",
       "      <td>[spy, basedonnovel, secretagent, sequel, mi6, ...</td>\n",
       "      <td>[SamMendes]</td>\n",
       "      <td>[Sam Mendes]</td>\n",
       "      <td>[A, cryptic, message, from, Bond’s, past, send...</td>\n",
       "    </tr>\n",
       "    <tr>\n",
       "      <th>3</th>\n",
       "      <td>49026</td>\n",
       "      <td>The Dark Knight Rises</td>\n",
       "      <td>[Following, the, death, of, District, Attorney...</td>\n",
       "      <td>[Action, Crime, Drama, Thriller]</td>\n",
       "      <td>[dccomics, crimefighter, terrorist, secretiden...</td>\n",
       "      <td>[ChristopherNolan]</td>\n",
       "      <td>[Christopher Nolan]</td>\n",
       "      <td>[Following, the, death, of, District, Attorney...</td>\n",
       "    </tr>\n",
       "    <tr>\n",
       "      <th>4</th>\n",
       "      <td>49529</td>\n",
       "      <td>John Carter</td>\n",
       "      <td>[John, Carter, is, a, war-weary,, former, mili...</td>\n",
       "      <td>[Action, Adventure, ScienceFiction]</td>\n",
       "      <td>[basedonnovel, mars, medallion, spacetravel, p...</td>\n",
       "      <td>[AndrewStanton]</td>\n",
       "      <td>[Andrew Stanton]</td>\n",
       "      <td>[John, Carter, is, a, war-weary,, former, mili...</td>\n",
       "    </tr>\n",
       "  </tbody>\n",
       "</table>\n",
       "</div>"
      ],
      "text/plain": [
       "   movie_id                                     title  \\\n",
       "0     19995                                    Avatar   \n",
       "1       285  Pirates of the Caribbean: At World's End   \n",
       "2    206647                                   Spectre   \n",
       "3     49026                     The Dark Knight Rises   \n",
       "4     49529                               John Carter   \n",
       "\n",
       "                                            overview  \\\n",
       "0  [In, the, 22nd, century,, a, paraplegic, Marin...   \n",
       "1  [Captain, Barbossa,, long, believed, to, be, d...   \n",
       "2  [A, cryptic, message, from, Bond’s, past, send...   \n",
       "3  [Following, the, death, of, District, Attorney...   \n",
       "4  [John, Carter, is, a, war-weary,, former, mili...   \n",
       "\n",
       "                                         genres  \\\n",
       "0  [Action, Adventure, Fantasy, ScienceFiction]   \n",
       "1                  [Adventure, Fantasy, Action]   \n",
       "2                    [Action, Adventure, Crime]   \n",
       "3              [Action, Crime, Drama, Thriller]   \n",
       "4           [Action, Adventure, ScienceFiction]   \n",
       "\n",
       "                                            keywords                cast  \\\n",
       "0  [cultureclash, future, spacewar, spacecolony, ...      [JamesCameron]   \n",
       "1  [ocean, drugabuse, exoticisland, eastindiatrad...     [GoreVerbinski]   \n",
       "2  [spy, basedonnovel, secretagent, sequel, mi6, ...         [SamMendes]   \n",
       "3  [dccomics, crimefighter, terrorist, secretiden...  [ChristopherNolan]   \n",
       "4  [basedonnovel, mars, medallion, spacetravel, p...     [AndrewStanton]   \n",
       "\n",
       "                  crew                                               tags  \n",
       "0      [James Cameron]  [In, the, 22nd, century,, a, paraplegic, Marin...  \n",
       "1     [Gore Verbinski]  [Captain, Barbossa,, long, believed, to, be, d...  \n",
       "2         [Sam Mendes]  [A, cryptic, message, from, Bond’s, past, send...  \n",
       "3  [Christopher Nolan]  [Following, the, death, of, District, Attorney...  \n",
       "4     [Andrew Stanton]  [John, Carter, is, a, war-weary,, former, mili...  "
      ]
     },
     "execution_count": 54,
     "metadata": {},
     "output_type": "execute_result"
    }
   ],
   "source": [
    "mov['tags']= mov['overview']+mov['genres']+mov['keywords']+mov['cast']+mov['crew']\n",
    "mov.head()"
   ]
  },
  {
   "cell_type": "code",
   "execution_count": 59,
   "id": "b48e6423",
   "metadata": {},
   "outputs": [
    {
     "data": {
      "text/plain": [
       "['In',\n",
       " 'the',\n",
       " '22nd',\n",
       " 'century,',\n",
       " 'a',\n",
       " 'paraplegic',\n",
       " 'Marine',\n",
       " 'is',\n",
       " 'dispatched',\n",
       " 'to',\n",
       " 'the',\n",
       " 'moon',\n",
       " 'Pandora',\n",
       " 'on',\n",
       " 'a',\n",
       " 'unique',\n",
       " 'mission,',\n",
       " 'but',\n",
       " 'becomes',\n",
       " 'torn',\n",
       " 'between',\n",
       " 'following',\n",
       " 'orders',\n",
       " 'and',\n",
       " 'protecting',\n",
       " 'an',\n",
       " 'alien',\n",
       " 'civilization.',\n",
       " 'Action',\n",
       " 'Adventure',\n",
       " 'Fantasy',\n",
       " 'ScienceFiction',\n",
       " 'cultureclash',\n",
       " 'future',\n",
       " 'spacewar',\n",
       " 'spacecolony',\n",
       " 'society',\n",
       " 'spacetravel',\n",
       " 'futuristic',\n",
       " 'romance',\n",
       " 'space',\n",
       " 'alien',\n",
       " 'tribe',\n",
       " 'alienplanet',\n",
       " 'cgi',\n",
       " 'marine',\n",
       " 'soldier',\n",
       " 'battle',\n",
       " 'loveaffair',\n",
       " 'antiwar',\n",
       " 'powerrelations',\n",
       " 'mindandsoul',\n",
       " '3d',\n",
       " 'JamesCameron',\n",
       " 'James Cameron']"
      ]
     },
     "execution_count": 59,
     "metadata": {},
     "output_type": "execute_result"
    }
   ],
   "source": [
    "new_df=mov[['movie_id','title','tags']]\n",
    "new_df['tags'][0]"
   ]
  },
  {
   "cell_type": "code",
   "execution_count": 61,
   "id": "f099e62d",
   "metadata": {},
   "outputs": [
    {
     "name": "stderr",
     "output_type": "stream",
     "text": [
      "C:\\Users\\DELL\\AppData\\Local\\Temp\\ipykernel_11344\\684433085.py:1: SettingWithCopyWarning: \n",
      "A value is trying to be set on a copy of a slice from a DataFrame.\n",
      "Try using .loc[row_indexer,col_indexer] = value instead\n",
      "\n",
      "See the caveats in the documentation: https://pandas.pydata.org/pandas-docs/stable/user_guide/indexing.html#returning-a-view-versus-a-copy\n",
      "  new_df['tags']=new_df['tags'].apply(lambda x: \" \".join(x))\n"
     ]
    }
   ],
   "source": [
    "#converting list into string cuz we need to remove commas from the list \n",
    "new_df['tags']=new_df['tags'].apply(lambda x: \" \".join(x))"
   ]
  },
  {
   "cell_type": "code",
   "execution_count": 62,
   "id": "751f4708",
   "metadata": {},
   "outputs": [
    {
     "data": {
      "text/plain": [
       "'In the 22nd century, a paraplegic Marine is dispatched to the moon Pandora on a unique mission, but becomes torn between following orders and protecting an alien civilization. Action Adventure Fantasy ScienceFiction cultureclash future spacewar spacecolony society spacetravel futuristic romance space alien tribe alienplanet cgi marine soldier battle loveaffair antiwar powerrelations mindandsoul 3d JamesCameron James Cameron'"
      ]
     },
     "execution_count": 62,
     "metadata": {},
     "output_type": "execute_result"
    }
   ],
   "source": [
    "new_df['tags'][0]"
   ]
  },
  {
   "cell_type": "code",
   "execution_count": 63,
   "id": "c08765b1",
   "metadata": {},
   "outputs": [
    {
     "name": "stderr",
     "output_type": "stream",
     "text": [
      "C:\\Users\\DELL\\AppData\\Local\\Temp\\ipykernel_11344\\4224080999.py:1: SettingWithCopyWarning: \n",
      "A value is trying to be set on a copy of a slice from a DataFrame.\n",
      "Try using .loc[row_indexer,col_indexer] = value instead\n",
      "\n",
      "See the caveats in the documentation: https://pandas.pydata.org/pandas-docs/stable/user_guide/indexing.html#returning-a-view-versus-a-copy\n",
      "  new_df['tags']=new_df['tags'].apply(lambda x:x.lower())\n"
     ]
    }
   ],
   "source": [
    "#converting to lower case letters\n",
    "new_df['tags']=new_df['tags'].apply(lambda x:x.lower())"
   ]
  },
  {
   "cell_type": "code",
   "execution_count": 65,
   "id": "8b44e4d3",
   "metadata": {},
   "outputs": [
    {
     "data": {
      "text/plain": [
       "'in the 22nd century, a paraplegic marine is dispatched to the moon pandora on a unique mission, but becomes torn between following orders and protecting an alien civilization. action adventure fantasy sciencefiction cultureclash future spacewar spacecolony society spacetravel futuristic romance space alien tribe alienplanet cgi marine soldier battle loveaffair antiwar powerrelations mindandsoul 3d jamescameron james cameron'"
      ]
     },
     "execution_count": 65,
     "metadata": {},
     "output_type": "execute_result"
    }
   ],
   "source": [
    "new_df['tags'][0]"
   ]
  },
  {
   "cell_type": "code",
   "execution_count": 67,
   "id": "bf58ec56",
   "metadata": {},
   "outputs": [],
   "source": [
    "#we are using bag of words technique here, in this we First, the text is split into individual words or tokens.\n",
    "#Then, the frequency of each word in the text is counted.\n",
    "#Finally, the text is represented as a numerical vector, where each element represents the count of a particular word.\n",
    "\n",
    "from sklearn.feature_extraction.text import CountVectorizer\n",
    "cv = CountVectorizer(max_features=5000,stop_words='english')"
   ]
  },
  {
   "cell_type": "code",
   "execution_count": 68,
   "id": "5e080671",
   "metadata": {},
   "outputs": [],
   "source": [
    "vectors=cv.fit_transform(new_df['tags']).toarray()"
   ]
  },
  {
   "cell_type": "code",
   "execution_count": 69,
   "id": "9c305dba",
   "metadata": {},
   "outputs": [
    {
     "data": {
      "text/plain": [
       "array([[0, 0, 0, ..., 0, 0, 0],\n",
       "       [0, 0, 0, ..., 0, 0, 0],\n",
       "       [0, 0, 0, ..., 0, 0, 0],\n",
       "       ...,\n",
       "       [0, 0, 0, ..., 0, 0, 0],\n",
       "       [0, 0, 0, ..., 0, 0, 0],\n",
       "       [0, 0, 0, ..., 0, 0, 0]], dtype=int64)"
      ]
     },
     "execution_count": 69,
     "metadata": {},
     "output_type": "execute_result"
    }
   ],
   "source": [
    "vectors"
   ]
  },
  {
   "cell_type": "code",
   "execution_count": 83,
   "id": "b7e22425",
   "metadata": {},
   "outputs": [
    {
     "name": "stdout",
     "output_type": "stream",
     "text": [
      "{'century': 725, 'marine': 2738, 'dispatched': 1286, 'moon': 2947, 'pandora': 3227, 'unique': 4681, 'mission': 2909, 'torn': 4540, 'following': 1734, 'orders': 3175, 'protecting': 3510, 'alien': 167, 'civilization': 811, 'action': 80, 'adventure': 112, 'fantasy': 1611, 'sciencefiction': 3919, 'cultureclash': 1072, 'future': 1817, 'society': 4154, 'spacetravel': 4193, 'futuristic': 1818, 'romance': 3812, 'space': 4187, 'tribe': 4602, 'alienplanet': 171, 'soldier': 4160, 'battle': 431, '3d': 45, 'jamescameron': 2344, 'james': 2343, 'cameron': 646, 'captain': 662, 'long': 2631, 'believed': 461, 'dead': 1135, 'come': 886, 'life': 2587, 'headed': 2027, 'edge': 1400, 'earth': 1386, 'turner': 4625, 'elizabeth': 1421, 'quite': 3561, 'ocean': 3136, 'drugabuse': 1351, 'exoticisland': 1544, 'loveofone': 2667, 'slife': 4134, 'traitor': 4575, 'shipwreck': 4060, 'ship': 4059, 'alliance': 176, 'afterlife': 126, 'fighter': 1665, 'pirate': 3346, 'aftercreditsstinger': 125, 'gore': 1906, 'verbinski': 4744, 'message': 2842, 'bond': 532, 'past': 3263, 'sends': 3986, 'trail': 4570, 'uncover': 4655, 'sinister': 4105, 'organization': 3178, 'battles': 433, 'political': 3394, 'forces': 1745, 'secret': 3948, 'service': 4009, 'alive': 174, 'deceit': 1154, 'reveal': 3731, 'terrible': 4463, 'truth': 4617, 'crime': 1044, 'spy': 4227, 'basedonnovel': 420, 'secretagent': 3949, 'sequel': 3998, 'britishsecretservice': 587, 'sammendes': 3879, 'sam': 3877, 'mendes': 2831, 'death': 1144, 'district': 1288, 'attorney': 356, 'harvey': 2013, 'batman': 430, 'assumes': 338, 'responsibility': 3707, 'crimes': 1046, 'protect': 3509, 'late': 2528, 'reputation': 3689, 'hunted': 2167, 'gotham': 1911, 'city': 808, 'police': 3386, 'department': 1188, 'years': 4974, 'later': 2529, 'encounters': 1451, 'mysterious': 3010, 'kyle': 2500, 'villainous': 4769, 'new': 3069, 'terrorist': 4470, 'leader': 2542, 'dark': 1112, 'knight': 2487, 'enemy': 1459, 'drama': 1331, 'thriller': 4510, 'dccomics': 1133, 'crimefighter': 1045, 'secretidentity': 3951, 'burglar': 620, 'gothamcity': 1912, 'vigilante': 4765, 'cover': 1018, 'superhero': 4352, 'terrorism': 4469, 'destruction': 1214, 'imax': 2200, 'flood': 1719, 'christophernolan': 791, 'christopher': 790, 'nolan': 3104, 'john': 2396, 'carter': 689, 'war': 4822, 'military': 2876, 'inexplicably': 2233, 'transported': 4582, 'exotic': 1543, 'planet': 3356, 'mars': 2752, 'reluctantly': 3668, 'embroiled': 1434, 'epic': 1487, 'conflict': 932, 'world': 4945, 'brink': 584, 'collapse': 867, 'humanity': 2158, 'realizes': 3615, 'survival': 4378, 'people': 3292, 'hands': 1985, 'medallion': 2811, 'princess': 3468, 'steampunk': 4261, 'escape': 1497, 'superhumanstrength': 4355, '19thcentury': 33, 'andrew': 222, 'stanton': 4244, 'seemingly': 3970, 'spider': 4212, 'man': 2715, 'goes': 1897, 'villain': 4768, 'including': 2219, 'shape': 4041, 'superpowers': 4360, 'alter': 184, 'ego': 1409, 'peter': 3313, 'parker': 3242, 'deals': 1142, 'nemesis': 3060, 'eddie': 1398, 'gets': 1865, 'caught': 706, 'love': 2663, 'triangle': 4601, 'dualidentity': 1360, 'amnesia': 207, 'forgiveness': 1752, 'wretch': 4957, 'deathofafriend': 1145, 'hostility': 2141, 'marvelcomic': 2764, 'revenge': 3736, 'samraimi': 3880, 'raimi': 3582, 'kingdom': 2479, 'wanted': 4819, 'charming': 754, 'rider': 3751, 'taken': 4405, 'hostage': 2139, 'beautiful': 443, 'bound': 547, 'teen': 4440, '70': 51, 'feet': 1645, 'magical': 2699, 'golden': 1900, 'hair': 1973, 'curious': 1077, 'looking': 2636, 'ticket': 4519, 'locked': 2622, 'away': 380, 'strikes': 4304, 'deal': 1138, 'handsome': 1986, 'thief': 4488, 'unlikely': 4693, 'duo': 1368, 'sets': 4013, 'packed': 3211, 'escapade': 1496, 'complete': 915, 'super': 4351, 'cop': 984, 'horse': 2136, 'gang': 1827, 'pub': 3524, 'thugs': 4517, 'animation': 239, 'family': 1602, 'magic': 2698, 'fairytale': 1589, 'musical': 3000, 'duringcreditsstinger': 1369, 'howard': 2151, 'tony': 4536, 'stark': 4247, 'tries': 4604, 'program': 3490, 'things': 4491, 'awry': 381, 'heroes': 2061, 'ultimate': 4647, 'test': 4475, 'fate': 1626, 'hangs': 1990, 'balance': 394, 'emerges': 1437, 'stop': 4284, 'plans': 3360, 'soon': 4172, 'unexpected': 4670, 'way': 4849, 'global': 1891, 'basedoncomicbook': 418, 'vision': 4782, 'marvelcinematicuniverse': 2763, 'harry': 2009, 'begins': 456, 'year': 4973, 'discovers': 1276, 'old': 3150, 'book': 537, 'marked': 2741, 'property': 3503, 'half': 1974, 'blood': 512, 'prince': 3467, 'learn': 2547, 'lord': 2640, 'witch': 4911, 'broom': 594, 'wizardry': 4918, 'teenagecrush': 4442, 'werewolf': 4870, 'david': 1125, 'yates': 4972, 'actions': 82, 'god': 1895, 'like': 2595, 'hero': 2060, 'left': 2555, 'formidable': 1755, 'takes': 4406, 'modern': 2927, 'day': 1130, 'sort': 4177, 'really': 3617, 'needs': 3052, 'superman': 4356, 'threat': 4503, 'quickly': 3558, 'putting': 3547, 'mankind': 2723, 'greater': 1928, 'danger': 1101, 'known': 2491, 'zacksnyder': 4985, 'zack': 4984, 'returns': 3726, 'discover': 1273, 'walk': 4804, 'free': 1787, 'abandoned': 54, 'moved': 2974, 'plots': 3375, 'millions': 2880, 'killed': 2470, 'change': 738, 'face': 1576, 'forever': 1750, 'steel': 4262, 'savingtheworld': 3901, 'bryansinger': 607, 'bryan': 606, 'singer': 4097, 'continues': 966, 'adventures': 113, 'casino': 694, 'betrayed': 478, 'woman': 4922, 'loved': 2665, '007': 1, 'fights': 1668, 'make': 2706, 'latest': 2530, 'personal': 3307, 'pursuing': 3541, 'determination': 1220, 'mr': 2982, 'white': 4881, 'reveals': 3734, 'far': 1613, 'complex': 917, 'dangerous': 1102, 'imagined': 2199, 'killing': 2474, 'undercover': 4660, 'marcforster': 2732, 'marc': 2731, 'forster': 1758, 'jack': 2335, 'works': 4944, 'debt': 1148, 'jones': 2408, 'attempts': 351, 'avoid': 376, 'eternal': 1508, 'fortuneteller': 1761, 'monster': 2939, 'daughter': 1122, 'texas': 4478, 'rangers': 3595, 'chase': 755, 'led': 2553, 'survivor': 4383, 'american': 199, 'indian': 2226, 'named': 3018, 'health': 2032, 'ranger': 3594, 'mask': 2766, 'riding': 3752, 'silver': 4089, 'teams': 4434, 'bring': 581, 'justice': 2436, 'western': 4877, 'partner': 3248, 'outlaw': 3194, 'lawyer': 2538, 'train': 4571, 'young': 4977, 'boy': 555, 'learns': 2549, 'extraordinary': 1568, 'powers': 3429, 'journeys': 2419, 'came': 642, 'sent': 3991, 'emerge': 1435, 'save': 3897, 'hope': 2125, 'superhuman': 4354, 'alieninvasion': 168, 'reboot': 3625, 'incredible': 2221, 'lion': 2606, 'lucy': 2682, 'susan': 4385, 'return': 3723, 'aid': 141, 'threatened': 4505, 'evil': 1524, 'king': 2478, 'help': 2052, 'colorful': 881, 'cast': 695, 'characters': 746, 'clan': 817, 'embarks': 1432, 'quest': 3554, 'ensure': 1475, 'returned': 3724, 'heir': 2045, 'fictionalplace': 1659, 'brothersisterrelationship': 599, 'matteroflifeanddeath': 2785, 'faith': 1590, 'uncle': 4653, 'fantasyworld': 1612, 'threatens': 4507, 'safety': 3869, 'security': 3962, 'nick': 3089, 'director': 1262, 'international': 2285, 'agency': 131, 'finds': 1687, 'need': 3050, 'team': 4433, 'pull': 3529, 'disaster': 1271, 'spanning': 4196, 'globe': 1892, 'daring': 1111, 'effort': 1406, 'newyork': 3082, 'crosses': 1058, 'paths': 3267, 'sure': 4367, 'ruthless': 3860, 'artist': 314, 'using': 4721, 'youth': 4982, 'aboard': 59, 'queen': 3550, 'anne': 243, 'doesn': 1305, 'know': 2488, 'fear': 1634, 'sea': 3934, 'mutiny': 3008, 'sword': 4396, 'sailing': 3872, 'duke': 1364, 'mermaid': 2841, 'rob': 3780, 'marshall': 2754, 'agents': 134, 'smith': 4140, 'tommy': 4535, 'lee': 2554, 'time': 4524, 'seen': 3971, '15': 8, 'men': 2829, 'black': 500, 'aliens': 172, 'stake': 4234, 'agent': 133, 'travel': 4589, 'right': 3756, 'secrets': 3957, 'universe': 4685, 'told': 4533, 'josh': 2414, 'humankind': 2159, 'comedy': 890, 'timetravel': 4527, 'barry': 412, 'immediately': 2201, 'events': 1519, 'dwarves': 1372, 'try': 4618, 'defend': 1168, 'mountain': 2971, 'treasure': 4594, 'claim': 813, 'elves': 1428, 'army': 296, 'orcs': 3172, 'fueled': 1807, 'rise': 3763, 'unite': 4683, 'middle': 2862, 'falls': 1596, 'corruption': 995, 'dragon': 1330, 'unlikelyfriendship': 4694, 'swordandsorcery': 4397, 'peterjackson': 3314, 'jackson': 2337, 'outcast': 3192, 'high': 2069, 'parents': 3238, 'leaving': 2552, 'raised': 3585, 'ben': 466, 'aunt': 364, 'teenagers': 4445, 'trying': 4619, 'figure': 1669, 'got': 1910, 'person': 3306, 'today': 4530, 'father': 1628, 'understand': 4665, 'disappearance': 1268, 'leading': 2544, 'lab': 2502, 'dr': 1327, 'set': 4011, 'collision': 876, 'course': 1013, 'choices': 777, 'use': 4718, 'destiny': 1210, 'lossoffather': 2651, 'webb': 4860, 'robin': 3790, 'happens': 1996, 'dying': 1373, 'robert': 3786, 'promises': 3496, 'identity': 2183, 'widow': 4885, 'draws': 1336, 'town': 4554, 'sheriff': 4057, 'archer': 283, 'middleages': 2863, 'medieval': 2816, 'ridleyscott': 3754, 'ridley': 3753, 'scott': 3926, 'successfully': 4334, 'escaped': 1498, 'mountains': 2972, 'ring': 3760, 'continue': 965, 'journey': 2418, 'gold': 1899, 'wizard': 4917, 'shocking': 4062, 'orphan': 3184, 'carefree': 674, 'existence': 1539, 'jordan': 2412, 'college': 874, 'otherworldly': 3189, 'north': 3109, 'unaware': 4651, 'england': 1465, 'experiment': 1553, 'animal': 234, 'basedonyoungadultnovel': 427, 'chris': 781, 'weitz': 4866, 'york': 4976, 'ambitious': 195, 'movie': 2977, 'producer': 3484, 'hired': 2085, 'crew': 1043, 'skull': 4120, 'island': 2323, 'encounter': 1450, 'kong': 2493, 'giant': 1870, 'ape': 263, 'smitten': 4141, 'lady': 2506, 'filmmaking': 1678, 'filmproducer': 1679, 'dinosaur': 1257, 'rose': 3827, 'tells': 4454, 'story': 4290, 'lewis': 2580, 'bobby': 523, 'april': 277, 'called': 638, 'upper': 4708, 'class': 820, 'passengers': 3257, 'mother': 2962, 'ruth': 3859, 'fiancé': 1655, 'drifter': 1340, 'best': 473, 'friend': 1796, 'win': 4898, 'game': 1824, 'voyage': 4797, '20': 34, 'morning': 2955, 'panic': 3228, 'classdifferences': 821, 'age': 128, 'pass': 3254, 'act': 78, 'designed': 1199, 'activity': 85, 'causing': 710, 'factions': 1582, 'america': 198, 'causes': 709, 'allies': 178, 'civilwar': 812, 'anthony': 251, 'radio': 3573, 'comes': 891, 'form': 1753, 'waters': 4847, 'hawaii': 2025, 'lieutenant': 2586, 'alex': 161, 'hopper': 2130, 'weapons': 4856, 'officer': 3145, 'assigned': 335, 'paul': 3274, 'hostile': 2140, 'force': 1743, 'unimaginable': 4679, 'strength': 4300, 'taking': 4407, 'invaders': 2297, 'live': 2612, 'potential': 3421, 'brother': 596, 'fiancée': 1656, 'shane': 4038, 'fight': 1664, 'navy': 3039, 'hongkong': 2118, 'soccer': 4151, 'scientist': 3921, 'berg': 471, 'park': 3241, 'features': 1638, 'fully': 1810, 'dna': 1298, 'suspense': 4390, 'amusementpark': 211, 'animalattack': 235, 'animalhorror': 236, 'colin': 866, 'assignment': 336, 'wrong': 4964, 'exposed': 1564, 'attacked': 347, 'forcing': 1746, 'cause': 707, 'authority': 370, 'position': 3412, 'challenged': 732, 'intelligence': 2275, 'inside': 2259, 'ally': 182, 'trust': 4616, 'aided': 142, 'field': 1660, 'eve': 1516, 'lethal': 2574, 'hidden': 2066, 'motives': 2967, 'sociopath': 4155, 'killer': 2471, 'going': 1898, 'major': 2705, 'crisis': 1049, 'decides': 1158, 'leaves': 2551, 'suffering': 4339, 'wake': 4802, 'doc': 1299, 'feelings': 1643, 'mary': 2765, 'jane': 2350, 'girl': 1879, 'childhood': 768, 'doctor': 1300, 'supervillain': 4362, 'apart': 260, 'starts': 4253, 'odyssey': 3140, 'retribution': 3721, 'tennessee': 4456, 'alice': 166, 'individual': 2231, '19': 15, 'english': 1466, 'engagement': 1463, 'party': 3252, 'escapes': 1500, 'marriage': 2744, 'hole': 2103, 'garden': 1832, 'unusual': 4704, 'rabbit': 3562, 'arriving': 307, 'strange': 4293, 'surreal': 4374, 'place': 3349, 'nightmares': 3097, 'child': 765, 'filled': 1671, 'talking': 4413, 'animals': 237, 'queens': 3551, 'reason': 3619, 'conquer': 946, 'horrific': 2132, 'restore': 3711, 'throne': 4513, 'timburton': 4523, 'tim': 4522, 'burton': 623, 'cure': 1075, 'lines': 2603, 'drawn': 1335, 'band': 398, 'powerful': 3426, 'mutants': 3006, 'organized': 3179, 'xavier': 4967, 'mutant': 3005, 'beast': 439, 'brettratner': 573, 'brett': 572, 'ratner': 3604, 'look': 2634, 'relationship': 3656, 'mike': 2872, 'days': 1131, 'monsters': 2940, 'university': 4686, 'friends': 1798, 'games': 1825, 'bestfriend': 474, 'scary': 3907, 'dan': 1097, 'normal': 3107, 'mind': 2883, 'target': 4420, 'egypt': 1411, 'sun': 4349, 'chaos': 742, 'tank': 4417, 'robot': 3792, 'michaelbay': 2856, 'michael': 2855, 'bay': 435, 'picks': 3335, 'pieces': 3339, 'conclusion': 925, 'group': 1945, 'businessman': 626, 'scientists': 3922, 'attempt': 349, 'push': 3543, 'boundaries': 548, 'technology': 4438, 'control': 969, 'ancient': 217, 'menace': 2830, 'cross': 1055, 'oscar': 3187, 'small': 4137, 'circus': 804, 'kansas': 2438, 'land': 2511, 'oz': 3206, 'inhabitants': 2244, 'great': 1927, 'prophecy': 3504, 'clutches': 853, 'lost': 2657, 'busy': 629, 'bad': 390, 'guys': 1971, 'spending': 4209, 'loves': 2670, 'school': 3914, 'graduation': 1919, 'promise': 3494, 'uncovers': 4658, 'clues': 852, 'obsession': 3128, 'tech': 4437, 'son': 4167, 'kevin': 2456, 'investigates': 2303, 'pulled': 3530, 'dictator': 1242, 'real': 3612, 'artificialintelligence': 313, 'dystopia': 1380, 'computer': 921, 'deception': 1155, 'duel': 1362, 'motorcycle': 2970, 'joseph': 2413, 'star': 4245, 'race': 3563, 'car': 667, 'lightning': 2593, 'pal': 3221, 'head': 2026, 'compete': 911, 'grand': 1921, 'road': 3777, 'championship': 735, 'rocky': 3799, 'espionage': 1504, 'carrace': 684, 'anthropomorphism': 252, 'centuries': 724, 'warriors': 4833, 'green': 1934, 'intergalactic': 2283, 'order': 3173, 'destroy': 1211, 'power': 3424, 'lie': 2584, 'human': 2156, 'recruited': 3641, 'transformation': 4578, 'martincampbell': 2759, 'martin': 2758, 'campbell': 649, 'woody': 4934, 'rest': 3709, 'andy': 225, 'toys': 4558, 'haven': 2022, 'played': 3365, 'accidentally': 70, 'nefarious': 3053, 'care': 672, 'center': 720, 'home': 2106, 'toy': 4556, 'toycomestolife': 4557, 'grown': 1950, 'post': 3418, 'apocalyptic': 266, 'connor': 945, 'lead': 2541, 'resistance': 3698, 'humans': 2160, 'increasingly': 2220, 'robots': 3793, 'marcus': 2734, 'wright': 4958, 'appears': 270, 'determine': 1221, 'sanfrancisco': 3885, 'cyborg': 1089, 'killerrobot': 2472, 'gasstation': 1839, 'losangeles': 2642, 'mcg': 2800, 'shaw': 4053, 'seeks': 3969, 'speed': 4205, 'jameswan': 2347, 'wan': 4815, 'united': 4684, 'nations': 3030, 'investigator': 2306, 'lane': 2515, 'suddenly': 4337, 'plagued': 3353, 'infection': 2237, 'turning': 4626, 'zombies': 4995, 'barely': 407, 'escaping': 1501, 'investigate': 2302, 'disease': 1278, 'follows': 1735, 'perilous': 3300, 'trek': 4598, 'brave': 563, 'dangers': 1103, 'odds': 3139, 'answers': 248, 'horror': 2134, 'apocalypse': 265, 'zombie': 4993, 'zombieapocalypse': 4994, 'species': 4202, 'join': 2401, 'younger': 4980, '1970s': 22, 'storm': 4289, 'enterprise': 1478, 'unstoppable': 4702, 'terror': 4468, 'stands': 4242, 'state': 4254, 'score': 3923, 'settle': 4015, 'kirk': 2481, 'leads': 2545, 'manhunt': 2720, 'zone': 4996, 'capture': 664, 'weapon': 4855, 'mass': 2770, 'spacecraft': 4188, 'friendship': 1799, 'spaceopera': 4191, 'abrams': 60, 'unwittingly': 4706, 'opens': 3164, 'fearsome': 1636, 'giants': 1871, 'unleashed': 4689, 'reclaim': 3631, 'fighting': 1667, 'thought': 4499, 'existed': 1538, 'legend': 2558, 'chance': 737, 'adaptation': 95, 'novel': 3112, 'lured': 2684, 'lavish': 2533, 'neighbor': 3054, 'jay': 2357, 'madness': 2694, 'tragedy': 4568, 'infidelity': 2238, 'rogue': 3805, 'joins': 2404, 'capable': 658, 'gift': 1873, 'gods': 1896, 'allow': 179, 'rule': 3842, 'basedonvideogame': 426, 'mikenewell': 2873, 'newell': 3072, 'monstrous': 2941, 'creatures': 1040, 'started': 4251, 'rising': 3765, 'began': 453, 'lives': 2614, 'resources': 3702, 'end': 1452, 'combat': 884, 'special': 4200, 'type': 4642, 'massive': 2772, 'controlled': 970, 'pilots': 3343, 'minds': 2885, 'bridge': 577, 'nearly': 3048, 'relentless': 3662, 'verge': 4745, 'defeat': 1166, 'choice': 776, 'turn': 4623, 'washed': 4837, 'pilot': 3342, 'charlie': 751, 'drive': 1343, 'legendary': 2559, 'stand': 4240, 'del': 1171, 'steps': 4269, 'adulthood': 109, 'remaining': 3671, 'reluctant': 3667, 'prime': 3466, 'film': 1672, 'centers': 722, 'usa': 4716, 'role': 3808, 'remains': 3672, 'bodyguard': 527, 'sabotage': 3862, 'cold': 863, 'search': 3937, 'crystal': 1066, 'supernatural': 4358, 'mystical': 3013, 'captured': 665, 'peru': 3310, 'colleague': 869, 'professor': 3488, 'knowledge': 2490, 'riddle': 3749, 'whip': 4880, 'machinegun': 2691, 'treasurehunt': 4595, 'archaeologist': 281, 'archeology': 282, 'stevenspielberg': 4275, 'steven': 4272, 'spielberg': 4213, 'dinosaurs': 1258, 'makes': 2707, 'nature': 3037, 'scottish': 3927, 'ruled': 3843, 'sacred': 3863, 'inadvertently': 2214, 'brings': 583, 'turmoil': 4622, 'eccentric': 1393, 'wise': 4908, 'ill': 2190, 'wish': 4909, 'serving': 4010, 'comic': 894, 'enormous': 1472, 'scotland': 3925, 'rebel': 3621, 'bravery': 564, 'bear': 437, 'archery': 284, 'ruins': 3841, 'womandirector': 4923, 'courage': 1011, 'explores': 1559, 'reaches': 3609, 'puts': 3546, 'federation': 1640, 'stranded': 4292, 'hatred': 2017, 'justin': 2437, 'wall': 4808, 'overrun': 3199, 'clean': 830, 'developed': 1226, 'arrives': 306, 'thinks': 4494, 'finally': 1683, 'romanticcomedy': 3814, 'assassination': 332, 'ambassador': 193, 'han': 1980, 'inspector': 2262, 'detective': 1217, 'paris': 3240, 'french': 1792, 'leaders': 2543, 'holds': 2102, 'struggles': 4310, 'chinese': 772, 'criminal': 1047, 'mastermind': 2775, 'adrian': 105, 'worldwide': 4949, 'investigating': 2304, 'radiation': 3572, 'unprecedented': 4697, 'solar': 4158, 'core': 988, 'president': 3451, 'thomas': 4496, 'wilson': 4897, 'unstable': 4701, 'saving': 3900, 'population': 3404, 'entire': 1482, 'doomed': 1318, 'writer': 4960, 'curtis': 1081, 'stumbles': 4321, 'information': 2242, 'build': 613, 'cataclysm': 698, 'wreak': 4955, 'havoc': 2024, 'naturaldisaster': 3034, 'endoftheworld': 1456, 'rolandemmerich': 3807, 'roland': 3806, 'emmerich': 1440, 'christmas': 787, 'spirits': 4219, 'miserable': 2900, 'current': 1078, 'dire': 1259, 'awaits': 377, 'does': 1304, 'ways': 4852, 'faced': 1577, 'growing': 1948, 'decide': 1156, 'hold': 2099, 'redemption': 3644, 'holiday': 2104, 'money': 2934, 'ghost': 1868, 'lesson': 2570, 'robertzemeckis': 3789, 'zemeckis': 4988, 'genetic': 1850, 'precious': 3434, 'key': 2458, 'dynasty': 1377, 'interspeciesromance': 2288, 'lilly': 2597, 'having': 2023, 'london': 2625, 'jungle': 2430, 'activities': 84, 'mining': 2887, 'africa': 122, 'siblings': 4079, 'step': 4263, 'peaceful': 3282, 'plunged': 3376, 'winter': 4907, 'children': 769, 'spectacular': 4203, 'selfsacrifice': 3977, 'fairy': 1588, 'level': 2577, 'plan': 3354, 'supernaturalpowers': 4359, '1980s': 27, 'stakes': 4235, 'lt': 2677, 'jim': 2383, 'gordon': 1905, 'plague': 3352, 'streets': 4299, 'partnership': 3250, 'proves': 3514, 'prey': 3461, 'reign': 3652, 'terrified': 4465, 'citizens': 807, 'joker': 2405, 'sadism': 3865, 'organizedcrime': 3180, 'carl': 678, 'spent': 4211, 'exploring': 1560, 'experiencing': 1552, 'passed': 3255, 'twist': 4637, 'wilderness': 4892, 'russell': 3855, 'gives': 1884, 'agedifference': 130, 'pete': 3312, 'murphy': 2997, 'meteor': 2846, 'wedding': 4862, 'mysteriously': 3011, 'grows': 1951, '11': 4, 'jumps': 2429, 'captures': 666, 'covert': 1019, 'government': 1913, 'placed': 3350, 'ragtag': 3579, 'conrad': 947, 'held': 2048, 'captive': 663, 'cave': 712, 'billionaire': 488, 'engineer': 1464, 'creates': 1036, 'suit': 4344, 'middleeast': 2864, 'jon': 2406, 'living': 2615, 'walls': 4811, 'station': 4256, '1930s': 16, 'fix': 1703, 'keeping': 2450, 'running': 3849, 'thing': 4490, 'connects': 943, 'work': 4938, 'unlock': 4695, 'believes': 462, 'contains': 961, 'meets': 2819, 'george': 1857, 'seeking': 3968, 'surprising': 4373, 'connection': 941, 'memories': 2827, 'buried': 621, 'clock': 840, 'filmdirector': 1673, 'hiding': 2068, 'martinscorsese': 2760, 'scorsese': 3924, 'southern': 4184, 'inventor': 2301, 'civil': 809, 'grant': 1924, 'west': 4876, 'master': 2774, 'disguise': 1281, 'thwart': 4518, 'basedontvseries': 425, 'drag': 1329, 'rick': 3747, 'travels': 4591, 'china': 771, 'emperor': 1444, '000': 0, 'pursue': 3538, 'domination': 1313, 'enlists': 1471, 'wife': 4888, 'abuse': 61, 'robcohen': 3785, 'cohen': 861, 'dc': 1132, 'comics': 895, 'suicide': 4342, 'squad': 4228, 'antihero': 255, 'states': 4255, 'risk': 3766, 'exchange': 1530, 'prison': 3470, 'secretmission': 3955, 'fathersonrelationship': 1630, 'marriedcouple': 2748, 'support': 4364, 'rescue': 3690, 'noah': 3101, 'tom': 4534, 'shadyac': 4033, 'cage': 634, 'minutes': 2893, 'awakens': 378, 'beginning': 455, 'forced': 1744, 'die': 1245, 'physical': 3331, 'contact': 958, 'thrown': 4515, 'doug': 1325, 'polar': 3385, 'ice': 2178, 'rescues': 3692, 'charge': 747, 'trio': 4605, 'map': 2730, 'water': 4846, 'egyptian': 1412, 'desert': 1197, 'deep': 1163, 'elite': 1420, 'joe': 2391, 'uses': 4720, 'generation': 1848, 'corrupt': 994, 'arms': 294, 'dealer': 1139, 'prevent': 3459, 'murder': 2990, 'attack': 346, 'explosion': 1561, 'stephen': 4265, 'riley': 3759, 'midwest': 2868, 'job': 2387, 'san': 3883, 'francisco': 1772, 'emotions': 1443, 'joy': 2420, 'anger': 231, 'sadness': 3867, 'headquarters': 2029, 'everyday': 1522, 'struggle': 4309, 'ensues': 1474, 'main': 2702, 'important': 2210, 'navigate': 3038, 'house': 2147, 'dream': 1337, 'cartoon': 690, 'moving': 2981, 'kids': 2467, 'tiger': 4521, 'khan': 2460, 'flee': 1708, 'self': 3976, 'discovery': 1277, 'panther': 3229, 'spirited': 4218, 'snake': 4146, 'wolf': 4919, 'elephant': 1418, 'remake': 3673, 'talkinganimal': 4414, 'faces': 1578, 'pressure': 3455, 'press': 3454, 'public': 3526, 'share': 4042, 'let': 2573, 'invention': 2300, 'confront': 933, 'enemies': 1458, 'marries': 2749, 'violent': 4774, 'coup': 1008, 'murdered': 2991, 'snow': 4149, 'decade': 1150, 'obtain': 3131, 'immortality': 2207, 'heart': 2036, 'castle': 696, 'forest': 1749, 'imprisoned': 2212, 'rupert': 3851, 'disney': 1284, 'iconic': 2179, 'classic': 823, 'sleeping': 4132, 'beauty': 445, 'pure': 3536, 'hearted': 2038, 'idyllic': 2185, 'invading': 2298, 'harmony': 2004, 'rises': 3764, 'ultimately': 4648, 'suffers': 4340, 'betrayal': 477, 'stone': 4281, 'bent': 470, 'successor': 4335, 'result': 3712, 'places': 3351, 'curse': 1079, 'newborn': 3070, 'infant': 2235, 'peace': 3281, 'true': 4614, 'happiness': 1998, 'retelling': 3717, 'stay': 4258, 'aftermath': 127, 'caesar': 633, 'maintain': 2704, 'community': 908, 'intelligent': 2276, 'apes': 264, 'colony': 878, 'woods': 4933, 'monkey': 2937, 'matt': 2783, 'lovers': 2669, 'tale': 4408, 'impossible': 2211, 'backdrop': 386, 'british': 586, '18th': 13, 'india': 2225, 'deeply': 1165, 'present': 3449, 'based': 417, 'original': 3181, 'japan': 2352, 'born': 543, 'samurai': 3882, 'seek': 3967, 'vengeance': 4741, 'treacherous': 4593, 'banished': 401, 'kind': 2477, 'honor': 2119, 'homeland': 2108, 'embark': 1430, 'challenges': 733, 'series': 4002, 'trials': 4600, 'ordinary': 3176, 'basedontruestory': 424, 'steve': 4271, 'rogers': 3804, 'aka': 149, 'washington': 4838, 'web': 4859, 'intrigue': 2294, 'joining': 2403, 'expose': 1563, 'conspiracy': 952, 'professional': 3487, 'assassins': 333, 'plot': 3374, 'revealed': 3732, 'enlist': 1470, 'washingtond': 4839, 'bored': 540, 'shrek': 4074, 'feeling': 1642, 'twisted': 4638, 'version': 4746, 'met': 2844, 'mitchell': 2919, 'shared': 4043, 'bright': 579, 'scientific': 3920, 'curiosity': 1076, 'genius': 1853, 'enigmatic': 1468, 'exists': 1541, 'memory': 2828, 'mystery': 3012, 'brad': 559, 'bird': 491, 'develops': 1229, 'plus': 3377, 'prodigy': 3482, 'brotherbrotherrelationship': 597, 'talent': 4409, 'hate': 2016, 'williams': 4895, 'ralph': 3588, 'foot': 1737, 'tall': 4416, 'video': 4757, 'jr': 2421, 'wanting': 4820, 'prove': 3513, 'good': 1903, 'guy': 1970, 'just': 2435, 'lands': 2513, 'duty': 1371, 'helps': 2056, 'enters': 1479, 'rush': 3854, 'racing': 3570, 'tracks': 4561, 'von': 4793, 'affect': 118, 'bullying': 617, 'medal': 2810, 'rich': 3742, 'moore': 2949, 'ride': 3750, 'shows': 4073, 'wonder': 4928, 'believe': 460, 'santaclaus': 3889, 'nerd': 3063, 'bell': 464, 'knew': 2485, 'coming': 896, 'immense': 2202, 'defense': 1169, 'prepare': 3443, 'women': 4926, 'shy': 4076, 'iii': 2188, 'kill': 2469, 'warrior': 4832, 'longer': 2632, 'wants': 4821, 'instead': 2271, 'befriends': 452, 'names': 3019, 'flying': 1724, 'arena': 289, 'night': 3093, 'training': 4574, 'village': 4766, 'flight': 1715, '10': 2, 'saved': 3898, 'clear': 831, 'assassin': 330, 'ordered': 3174, 'finish': 1689, 'adult': 106, 'promised': 3495, 'manvsmachine': 2728, 'sunglasses': 4350, 'firemen': 1693, 'psychiatrist': 3517, 'jonathan': 2407, 'light': 2592, 'abducted': 55, 'discovering': 1275, 'spaceship': 4192, 'outerspace': 3193, 'chronicles': 793, 'explorers': 1558, 'newly': 3077, 'discovered': 1274, 'vast': 4735, 'involved': 2311, 'singleparent': 4103, 'nasa': 3024, 'expedition': 1548, 'raceagainsttime': 3564, 'familyrelationships': 1604, 'farmhouse': 1617, 'astronaut': 340, 'fatherdaughterrelationship': 1629, 'farmer': 1616, 'skilled': 4118, 'corporate': 991, 'targets': 4421, 'offered': 3142, 'regain': 3649, 'task': 4422, 'considered': 951, 'idea': 2180, 'lossoflover': 2653, 'kidnapping': 2465, 'sleep': 4131, 'heist': 2047, 'hit': 2091, 'larger': 2520, 'tears': 4436, 'rag': 3574, 'tag': 4403, 'volunteers': 4792, 'cuts': 1086, 'red': 3643, 'tape': 4418, 'ties': 4520, 'foreign': 1748, 'greatest': 1929, 'catastrophe': 699, 'eyes': 1575, 'quiet': 3559, 'tunnel': 4621, 'los': 2641, 'angeles': 229, 'street': 4297, 'racer': 3566, 'suspected': 4387, 'big': 483, 'brian': 574, 'sister': 4107, 'choose': 778, 'lapd': 2518, 'streetgang': 4298, 'auto': 372, 'benjamin': 468, 'aging': 136, 'bizarre': 499, 'consequences': 949, 'diary': 1240, 'funeral': 1813, 'hospital': 2137, 'davidfincher': 1126, 'fincher': 1685, 'charles': 750, 'took': 4538, 'arch': 280, 'working': 4943, 'cia': 797, '1960s': 21, 'matthew': 2787, 'nation': 3028, 'katniss': 2447, 'confronts': 935, 'final': 1681, 'showdown': 4070, 'unit': 4682, '13': 6, 'stage': 4232, 'obsessed': 3127, 'destroying': 1213, 'mortal': 2957, 'traps': 4586, 'moral': 2950, 'challenge': 731, 'hunger': 2164, 'revolution': 3738, 'francis': 1771, 'lawrence': 2536, 'blake': 506, 'sorcerer': 4174, 'manhattan': 2719, 'recruits': 3642, 'dave': 1124, 'average': 375, 'crash': 1029, 'art': 309, 'science': 3918, 'partners': 3249, 'darkness': 1115, 'apprentice': 273, 'jonturteltaub': 2409, 'cruise': 1064, 'traveling': 4590, 'wave': 4848, 'begin': 454, 'dramatic': 1332, 'newyear': 3081, 'seve': 4016, 'drowning': 1349, 'ball': 395, 'single': 4101, 'wolfgangpetersen': 4921, 'wolfgang': 4920, 'petersen': 3316, 'mad': 2692, 'died': 1246, 'amp': 208, 'ambush': 197, 'assault': 334, 'boardingschool': 520, 'teacher': 4429, 'cowardliness': 1021, 'pregnancy': 3436, 'miller': 2877, 'realm': 3618, 'fleeing': 1709, 'portal': 3408, 'worlds': 4946, 'opposing': 3169, 'sides': 4082, 'videogame': 4758, 'duncan': 1366, 'fears': 1635, 'unknown': 4687, 'warfare': 4827, 'fiction': 1657, 'alan': 152, 'taylor': 4427, 'cousin': 1017, 'painting': 3219, 'fantastic': 1610, 'goodvsevil': 1904, 'lifelong': 2589, 'danny': 1106, 'walker': 4805, 'ace': 76, 'entangled': 1476, 'nurse': 3124, 'johnson': 2400, 'rivalry': 3772, 'turned': 4624, 'devastating': 1224, 'pearl': 3283, 'harbor': 2000, 'history': 2090, 'patriotism': 3273, 'worldwarii': 4948, 'airplane': 146, 'teenager': 4444, 'extraterrestrial': 1569, 'transforming': 4580, 'heroic': 2062, 'clue': 850, 'retrieve': 3722, 'alexander': 162, 'persian': 3305, 'empire': 1445, 'defeating': 1167, 'gone': 1902, 'greece': 1930, 'campaign': 648, 'homosexuality': 2114, 'gayrelationship': 1845, 'ancientworld': 219, 'oliverstone': 3153, 'oliver': 3152, 'returning': 3725, 'fifth': 1663, 'study': 4319, 'matters': 2786, 'students': 4316, 'arts': 317, 'cuttingthecord': 1087, 'childhero': 767, 'dyinganddeath': 1374, 'blackmagic': 502, 'sorcery': 4175, 'fourth': 1766, 'tournament': 4553, 'ron': 3818, 'hancock': 1981, 'expert': 1554, 'repair': 3682, 'image': 2196, 'damage': 1094, 'miss': 2905, 'successful': 4333, 'sense': 3989, 'purpose': 3537, 'alcohol': 156, 'forbiddenlove': 1742, 'affection': 119, 'alcoholism': 159, 'unable': 4650, 'spread': 4225, 'virus': 4781, 'daily': 1092, 'messages': 2843, 'desperate': 1204, 'survivors': 4384, 'wins': 4906, 'tour': 4551, 'chocolate': 775, 'factory': 1583, 'candy': 656, 'londonengland': 2626, 'parentskidsrelationship': 3239, 'rat': 3603, 'dreams': 1338, 'chef': 760, 'despite': 1207, 'wishes': 4910, 'problem': 3479, 'beneath': 467, 'restaurant': 3710, 'famous': 1605, 'apparent': 267, 'visitor': 4786, 'kitchen': 2484, 'fine': 1688, 'passion': 3260, 'cooking': 981, 'motion': 2966, 'hilarious': 2078, 'exciting': 1531, 'turns': 4627, 'upside': 4713, 'river': 3774, 'cook': 980, 'mouse': 2973, 'confidence': 930, 'roof': 3822, 'window': 4900, 'court': 1014, 'jan': 2349, 'driven': 1344, 'bruce': 602, 'wayne': 4851, 'uncovering': 4657, 'underworld': 4667, 'himalaya': 2081, 'martialarts': 2757, 'ninja': 3100, 'marty': 2762, 'maurice': 2789, 'penguins': 3288, 'crazy': 1033, 'plane': 3355, 'jealousy': 2361, 'dance': 1098, 'zoo': 4997, 'penguin': 3287, 'volcano': 4790, 'zebra': 4987, 'shark': 4046, 'eric': 1491, 'darnell': 1116, 'museum': 2998, 'larry': 2522, 've': 4738, 'institution': 2272, 'include': 2217, 'close': 844, 'lincoln': 2600, 'ivan': 2332, 'shawnlevy': 4055, 'shawn': 4054, 'levy': 2579, 'logan': 2623, 'avenge': 374, 'girlfriend': 1880, 'boxer': 553, 'gavin': 1842, 'hood': 2120, 'zion': 4991, 'invasion': 2299, 'neo': 3061, 'philosophy': 3326, 'kungfu': 2498, 'temple': 4455, 'subway': 4329, 'computervirus': 922, 'virtualreality': 4780, 'cyberpunk': 1088, 'anna': 241, 'finding': 1686, 'fallen': 1593, 'accompanied': 71, 'delivery': 1174, 'means': 2806, 'buck': 608, 'months': 2945, 'matrix': 2782, 'freed': 1788, 'brought': 600, 'ability': 57, 'certain': 727, 'pre': 3432, 'nasty': 3025, 'piece': 3338, 'news': 3079, 'hits': 2095, 'machine': 2690, 'digging': 1252, 'reach': 3608, 'hours': 2146, 'prepares': 3445, 'source': 4181, 'thor': 4498, 'vengeful': 4742, 'reunite': 3728, 'foster': 1763, 'sacrifice': 3864, 'landscape': 2514, 'broken': 590, 'exist': 1537, 'rebels': 3624, 'run': 3846, 'able': 58, 'max': 2791, 'words': 4937, 'loss': 2647, 'path': 3266, 'australia': 366, 'ontherun': 3161, 'georgemiller': 1859, 'harvard': 2012, 'evidence': 1523, 'underground': 4664, 'rome': 3815, 'vatican': 4736, 'christian': 784, 'prequel': 3447, 'catholicism': 704, 'ronhoward': 3819, 'mighty': 2869, 'arrogant': 308, 'punishment': 3532, 'darkest': 1114, 'invade': 2296, 'newmexico': 3078, 'kenneth': 2455, 'biggest': 485, 'hollywood': 2105, 'separated': 3996, 'penny': 3291, 'beloved': 465, 'owner': 3203, 'kidsandfamily': 2468, 'trained': 4572, 'mole': 2928, 'fly': 1723, 'leonard': 2564, 'sentenced': 3993, 'pet': 3311, 'shop': 4066, 'perseus': 3304, 'zeus': 4989, 'attempting': 350, 'fisherman': 1698, 'sole': 4162, 'parent': 3237, 'rages': 3577, 'losing': 2646, 'brothers': 598, 'mythology': 3015, 'vampire': 4728, 'changed': 739, 'estate': 1506, 'ruin': 3840, 'imprisonment': 2213, 'fishoutofwater': 1700, '18thcentury': 14, 'ethan': 1509, 'highly': 2071, 'committed': 904, 'vienna': 4759, 'visit': 4784, 'victorian': 4755, 'estranged': 1507, 'savage': 3896, 'flesh': 1713, 'ruralsetting': 3853, 'disillusioned': 1283, 'lone': 2627, 'career': 673, 'making': 2708, 'honey': 2115, 'trip': 4606, 'outside': 3196, 'vanessa': 4732, 'florist': 1721, 'actually': 91, 'sue': 4338, 'flower': 1722, 'po': 3378, 'valley': 4725, 'alongside': 183, 'fellow': 1646, 'kung': 2497, 'fu': 1806, 'masters': 2776, 'furious': 1816, 'crane': 1028, 'origins': 3182, 'succeed': 4330, 'jennifer': 2367, 'nelson': 3059, 'line': 2602, 'aside': 323, 'air': 145, 'warship': 4835, 'arrest': 301, 'spirit': 4217, 'nightshyamalan': 3098, 'shyamalan': 4077, 'retired': 3718, 'hunt': 2166, 'sadistic': 3866, 'berlin': 472, 'whitehouse': 4882, 'explosive': 1562, 'mobilephone': 2923, 'honeymoon': 2116, 'shanghai': 4039, 'letter': 2575, 'suitcase': 4345, 'celebration': 716, 'policeman': 3389, 'little': 2610, 'heavily': 2042, 'armed': 293, 'falling': 1594, 'country': 1003, 'usapresident': 4717, 'secretservice': 3958, 'mom': 2930, 'mischievous': 2899, 'milo': 2882, 'sbook': 3903, 'simon': 4091, 'wells': 4868, 'common': 905, 'sewer': 4020, 'hang': 1988, 'spike': 4214, 'frog': 1801, 'orphanage': 3185, '12': 5, 'hook': 2122, 'lily': 2598, 'rebellious': 3623, 'pan': 3226, 'dog': 1306, 'spring': 4226, 'stolen': 4280, 'moments': 2932, 'adoption': 103, 'growingup': 1949, 'trouble': 4609, 'clash': 819, 'convinces': 979, 'helen': 2049, 'leave': 2550, 'husband': 2173, 'troy': 4611, 'asks': 327, 'sees': 3972, 'opportunity': 3168, 'holding': 2101, '50': 47, 'adultery': 108, 'fraud': 1782, 'swordfight': 4398, 'battlefield': 432, 'apple': 271, 'central': 723, 'monte': 2943, 'attention': 354, 'crashing': 1031, 'joined': 2402, 'julian': 2425, 'europe': 1510, 'collection': 872, 'realize': 3614, 'want': 4818, 'korean': 2495, 'different': 1250, 'identities': 2182, 'satellite': 3894, 'powered': 3425, 'energy': 1460, 'paranormal': 3235, 'erin': 1492, 'gilbert': 1876, 'nuclear': 3116, 'worker': 4941, 'femalefriendship': 1648, 'asteroid': 339, 'collide': 875, 'surface': 4368, 'bomb': 530, 'renowned': 3680, 'agrees': 139, 'isn': 2324, 'spacemarine': 4189, 'kay': 2449, 'provide': 3515, 'toughest': 4550, 'proportions': 3505, 'convince': 977, 'galaxy': 1821, 'illegalimmigration': 2193, 'newidentity': 3074, 'flyingsaucer': 1725, 'denmark': 1183, 'sin': 4095, 'royalty': 3836, 'adultanimation': 107, 'continuing': 967, 'threats': 4508, 'closer': 846, 'installment': 2268, 'track': 4559, 'access': 67, 'russian': 3857, 'planning': 3359, 'strike': 4303, 'ends': 1457, 'severe': 4018, 'bombing': 531, 'immortal': 2206, 'hopes': 2127, 'beliefs': 459, 'imagination': 2198, 'nightmare': 3096, 'dick': 1241, 'loses': 2645, 'pretty': 3458, 'enjoy': 1469, 'second': 3947, 'thoughts': 4500, 'innocent': 2256, 'couple': 1009, 'hears': 2035, 'boss': 544, 'company': 910, 'desperation': 1206, 'robber': 3781, 'suburbia': 4328, 'humiliation': 2161, 'unemployment': 4669, 'dean': 1143, 'nathan': 3027, 'japanese': 2353, 'learning': 2548, 'respect': 3703, 'open': 3162, 'trade': 4563, 'warcrimes': 4823, 'swordplay': 4399, 'general': 1847, 'warveteran': 4836, 'mercenary': 2838, 'lossofhusband': 2652, 'slaughter': 4126, 'alcoholic': 157, 'edwardzwick': 1405, 'edward': 1403, 'zwick': 4999, 'moses': 2959, 'setting': 4014, 'slaves': 4129, 'terrifying': 4466, 'deadly': 1136, 'bible': 482, 'bitter': 498, 'rivals': 3773, 'thrill': 4509, 'iowa': 2314, 'farm': 1615, 'spacemission': 4190, 'genetically': 1851, 'nerdy': 3064, 'student': 4315, 'amazing': 191, 'thanksgiving': 4481, 'thrilling': 4511, 'chapter': 744, 'races': 3567, 'favorite': 1631, 'sport': 4221, 'pair': 3220, 'hundreds': 2163, 'wild': 4890, 'wifehusbandrelationship': 4889, 'mothersonrelationship': 2965, 'mythical': 3014, 'artificial': 312, 'gritty': 1943, 'alternate': 185, '1985': 28, 'glory': 1893, 'masked': 2767, 'brutally': 605, 'investigation': 2305, 'reunited': 3729, 'doing': 1308, 'grave': 1925, 'massmurder': 2773, 'retirement': 3719, 'soviet': 4186, 'franchise': 1770, 'maverick': 2790, 'detectives': 1218, 'roger': 3803, 'asian': 322, 'mobster': 2924, 'sing': 4096, 'slave': 4127, 'leo': 2562, 'smart': 4139, 'rookie': 3823, 'richarddonner': 3744, 'richard': 3743, 'donner': 1317, 'genetics': 1852, 'researcher': 3695, 'tragic': 4569, 'laboratory': 2504, 'transform': 4577, 'raging': 3578, 'angry': 233, 'california': 637, 'gun': 1962, 'mutation': 3007, 'psychology': 3521, 'mirror': 2897, 'phone': 3327, 'anglee': 232, 'ang': 226, 'framed': 1768, 'presidential': 3452, 'contend': 963, 'missile': 2906, 'surveillance': 4377, 'chu': 794, 'depths': 1191, 'business': 625, 'underwater': 4666, 'buddy': 610, 'ross': 3828, 'collect': 871, 'mentor': 2835, 'unleash': 4688, 'ii': 2187, 'brooklyn': 592, 'transformed': 4579, 'intends': 2278, 'device': 1230, 'nazis': 3043, 'nazigermany': 3042, 'perioddrama': 3302, 'greed': 1931, 'oil': 3149, 'heiress': 2046, 'notorious': 3111, 'submarine': 4326, 'supply': 4363, 'hanging': 1989, 'royal': 3835, 'commitment': 903, 'pursuit': 3542, 'devoted': 1234, 'surgeon': 4370, 'birth': 492, 'gather': 1840, 'fangvamp': 1607, 'worse': 4950, 'shaken': 4035, 'rage': 3575, 'fugitive': 1808, 'virginia': 4777, 'louis': 2660, 'bone': 534, 'nice': 3086, 'lucky': 2681, 'sophie': 4173, 'cannibal': 657, 'hugh': 2154, 'glass': 1888, 'rape': 3598, 'frontier': 1803, 'nativeamerican': 3032, 'violence': 4773, 'basedontrueevents': 423, 'alejandro': 160, 'winning': 4905, '500': 48, 'underdog': 4663, 'fast': 1622, 'winds': 4901, 'dirt': 1263, 'courageous': 1012, 'waiting': 4800, 'play': 3363, 'nevada': 3068, 'lasvegas': 2527, 'private': 3474, 'wind': 4899, 'reporter': 3686, 'operation': 3166, 'project': 3491, 'newspaper': 3080, 'efforts': 1407, 'prosecution': 3506, 'falseidentity': 1597, 'revelation': 3735, 'shootout': 4065, 'footchase': 1740, 'flashback': 1705, 'paulgreengrass': 3275, 'lazy': 2540, 'chosen': 780, 'slacker': 4123, 'won': 4927, 'easy': 1391, 'turtle': 4628, 'mark': 2740, 'lang': 2516, 'inner': 2254, 'ant': 249, 'obstacles': 3130, 'peyton': 3319, 'reed': 3646, 'safe': 3868, 'annual': 246, 'embarking': 1431, 'victor': 4753, 'rebellion': 3622, 'competition': 913, 'television': 4451, 'uprising': 4710, 'femaleprotagonist': 1650, 'winner': 4904, 'confident': 931, 'promptly': 3501, 'relocated': 3666, 'manages': 2717, 'accidental': 69, 'lot': 2658, 'lifetime': 2591, 'ray': 3606, 'divorced': 1296, 'perfect': 3294, 'ex': 1526, 'drop': 1348, 'teenage': 4441, 'rare': 3602, 'weekend': 4864, 'touches': 4547, 'posttraumaticstressdisorder': 3419, 'newjersey': 3075, 'cops': 987, 'miami': 2854, 'narcotics': 3022, 'cars': 687, 'drug': 1350, 'cuba': 1067, 'fireworks': 1694, 'playboy': 3364, 'secretly': 3954, 'sexy': 4029, 'mexicanstandoff': 2850, 'gunfight': 1963, 'gangster': 1829, 'interrogation': 2287, 'carchase': 669, 'druglord': 1354, 'illegaldrugs': 2192, 'actionhero': 81, 'lover': 2668, 'tough': 4549, 'cat': 697, 'loyalty': 2676, 'tested': 4476, 'skills': 4119, 'experience': 1549, 'operative': 3167, 'innocence': 2255, 'serve': 4007, 'doubt': 1323, 'question': 3555, 'coldwar': 864, 'phillipnoyce': 3324, 'phillip': 3323, 'noyce': 3115, 'visions': 4783, 'darren': 1117, 'aronofsky': 298, 'loyal': 2675, 'thrust': 4516, 'carrying': 686, 'suspects': 4389, 'stealing': 4260, 'priceless': 3463, 'bumbling': 618, 'thompson': 4497, 'ahead': 140, 'fortune': 1760, 'convict': 975, 'sympathetic': 4401, 'northern': 3110, 'aristocrat': 292, 'inherits': 2247, 'ranch': 3592, 'stock': 4278, 'cattle': 705, 'missionary': 2910, 'thousand': 4501, 'ready': 3611, 'craft': 1026, 'lies': 2585, 'recover': 3638, 'orphaned': 3186, 'shower': 4071, 'comet': 892, 'prehistoric': 3439, 'stiller': 4277, 'metro': 2848, 'meaning': 2805, 'date': 1119, 'fish': 1697, 'mayor': 2796, 'rain': 3583, 'potter': 3422, 'lived': 2613, 'birthday': 493, 'newfound': 3073, 'deaths': 1147, 'blame': 507, 'christmasparty': 788, 'halloween': 1976, 'chriscolumbus': 782, 'columbus': 882, 'recently': 3630, 'undead': 4659, 'officers': 3146, 'policeoperation': 3392, '17th': 11, 'caribbean': 676, 'heads': 2030, 'rival': 3771, 'port': 3407, 'governor': 1914, 'kidnapped': 2463, 'simple': 4093, 'marriageproposal': 2746, 'jamaica': 2341, 'skeleton': 4116, 'famed': 1600, 'involving': 2313, 'christianity': 785, 'monk': 2936, 'secretsociety': 3959, 'jewel': 2379, 'amazon': 192, 'fit': 1702, 'law': 2534, 'audition': 362, 'carlos': 679, 'gifted': 1874, 'superheroes': 4353, 'anti': 253, 'col': 862, 'william': 4894, 'jean': 2362, 'scheme': 3910, 'opposite': 3170, 'mia': 2853, 'broke': 589, 'custody': 1083, 'authorities': 369, 'corner': 989, 'gain': 1820, 'freedom': 1789, 'brazil': 565, 'fbi': 1632, 'escapefromprison': 1499, 'carcrash': 670, 'policechase': 3388, 'large': 2519, 'conscience': 948, 'advantage': 111, 'ritchie': 3769, 'lose': 2643, 'seize': 3974, 'hell': 2051, 'battling': 434, 'demons': 1182, 'beasts': 440, 'survive': 4379, 'accepts': 66, 'construction': 956, 'douglas': 1326, 'chip': 773, 'brain': 560, 'virtual': 4779, 'reality': 3613, 'falselyaccused': 1598, 'doublelife': 1322, 'telepathy': 4450, 'arab': 278, 'iraq': 2318, 'johnmctiernan': 2398, 'mctiernan': 2802, 'aaron': 53, 'experiences': 1551, 'previous': 3460, 'jason': 2355, 'recruit': 3640, 'freeze': 1791, 'homicidal': 2112, 'poison': 3382, 'dynamic': 1376, 'joelschumacher': 2394, 'joel': 2392, 'schumacher': 3916, 'creature': 1039, 'steal': 4259, 'cindy': 799, 'lou': 2659, 'newlove': 3076, 'hall': 1975, 'trapped': 4585, 'start': 4250, 'tornado': 4541, 'hurricane': 2172, 'evacuation': 1513, 'climate': 835, 'spain': 4194, 'unleashing': 4690, 'accept': 64, 'helicopter': 2050, 'skyscraper': 4122, 'woo': 4931, 'weather': 4858, 'conditions': 927, 'combined': 885, 'fishing': 1699, 'boat': 521, 'minute': 2892, 'details': 1216, 'screen': 3930, 'surfer': 4369, 'resurrection': 3716, 'pacific': 3208, 'johnny': 2399, 'sells': 3980, 'soul': 4178, 'parts': 3251, 'getting': 1866, 'offers': 3143, 'release': 3660, 'mephisto': 2836, 'religionandsupernatural': 3664, 'devil': 1231, 'stunts': 4323, 'flame': 1704, 'angels': 230, 'charged': 748, 'missing': 2907, 'members': 2826, 'witness': 4913, 'protection': 3511, 'ladies': 2505, 'responsible': 3708, 'robbery': 3783, 'corners': 990, 'android': 224, 'creation': 1037, 'stuart': 4313, 'happily': 1997, 'east': 1389, 'store': 4287, 'classes': 822, 'wealthy': 4854, 'secretary': 3950, 'hard': 2001, 'immigration': 2205, 'laws': 2537, 'lifestyle': 2590, 'damon': 1096, 'bounty': 549, 'hunters': 2169, 'champion': 734, 'used': 4719, 'forbidden': 1741, 'enforcement': 1461, 'controversial': 972, 'loving': 2673, 'detroit': 1223, 'injured': 2250, 'brilliant': 580, 'driver': 1345, 'inspired': 2265, 'lossofbrother': 2648, 'cut': 1085, 'bit': 496, 'lisa': 2607, 'baseball': 416, 'playing': 3369, 'lovetriangle': 2672, 'athlete': 343, 'brooks': 593, 'glamorous': 1887, 'amid': 205, 'airport': 148, 'garage': 1831, 'jamesmangold': 2346, 'mangold': 2718, 'decades': 1151, 'stranger': 4294, 'arrival': 303, 'chain': 729, 'knows': 2492, 'clone': 841, 'wars': 4834, 'noble': 3102, 'jedi': 2363, 'wide': 4884, 'republic': 3688, 'ashes': 319, 'anakin': 214, 'twin': 4634, 'grow': 1947, 'lucas': 2679, 'renegade': 3677, 'count': 999, 'thousands': 4502, 'threaten': 4504, 'break': 567, 'senator': 3983, 'movement': 2975, 'senate': 3982, 'lasergun': 2524, 'sullivan': 4347, 'earn': 1385, 'tests': 4477, 'emotional': 1441, 'limits': 2599, 'changing': 741, 'worldwari': 4947, 'strong': 4308, 'destroyed': 1212, 'stoneage': 4282, 'olympic': 3156, 'marry': 2750, 'rid': 3748, 'process': 3481, 'olympicgames': 3157, 'roman': 3811, 'ho': 2096, 'indians': 2229, 'language': 2517, 'code': 857, 'sisters': 4108, 'sara': 3890, 'nicolas': 3090, 'grim': 1941, 'turtles': 4629, 'cameraman': 644, 'unravel': 4698, 'diabolical': 1235, 'van': 4730, 'newyorkcity': 3083, 'ryan': 3861, 'medical': 2813, 'veteran': 4748, 'command': 899, 'routine': 3832, 'completely': 916, 'link': 2604, 'sleepy': 4133, 'dante': 1108, 'recent': 3629, 'worst': 4951, 'smalltown': 4138, 'motel': 2961, 'cabin': 632, 'henchmen': 2057, 'facing': 1580, 'similar': 4090, 'intentions': 2281, 'abilities': 56, 'telekinesis': 4449, 'natural': 3033, 'desperately': 1205, 'securityguard': 3963, 'earthquake': 1387, 'deranged': 1193, 'media': 2812, 'secretintelligenceservice': 3952, 'tvstation': 4633, 'southernusa': 4185, 'lossofson': 2656, 'lossoffamily': 2650, 'reunites': 3730, 'thieves': 4489, 'huge': 2153, 'amsterdam': 209, 'hot': 2142, 'stevensoderbergh': 4274, 'soderbergh': 4156, 'bliss': 509, 'stuck': 4314, 'unbeknownst': 4652, 'paid': 3214, 'mix': 2920, 'wicked': 4883, 'hitman': 2094, 'marriagecrisis': 2745, 'tear': 4435, 'dystopicfuture': 1381, 'youngadult': 4978, 'filmmaker': 1676, 'hughes': 2155, 'obsessive': 3129, 'disorder': 1285, 'ladykiller': 2507, 'biography': 490, 'womanizer': 4924, 'congress': 937, 'tiny': 4528, 'journalist': 2417, 'seth': 4012, 'largest': 2521, 'happy': 1999, 'dies': 1248, 'employee': 1446, 'realizing': 3616, 'fighters': 1666, 'vandalism': 4731, 'nightclub': 3094, 'knife': 2486, 'trap': 4584, 'michel': 2857, 'frank': 1774, 'style': 4324, '300': 44, 'saga': 3870, 'fresh': 1793, 'greek': 1933, 'pits': 3348, 'commander': 900, 'basedongraphicnovel': 419, 'handtohandcombat': 1987, 'minions': 2888, 'blue': 517, 'fact': 1581, 'raja': 3587, 'greedy': 1932, 'possession': 3415, 'heaven': 2041, 'determined': 1222, 'karate': 2439, 'sky': 4121, 'match': 2778, 'wits': 4915, 'cow': 1020, 'finn': 1691, 'near': 3046, 'spell': 4206, 'kidnaps': 2466, 'patrick': 3272, 'grace': 1915, 'diamond': 1238, 'card': 671, 'intolerance': 2293, 'mcclane': 2799, 'calls': 639, 'hacker': 1972, 'internet': 2286, 'terrorists': 4471, 'intent': 2280, 'fistfight': 1701, 'cellphone': 718, 'creator': 1038, 'destination': 1208, 'bet': 475, 'circle': 801, 'frankcoraci': 1775, 'pro': 3478, 'victory': 4756, 'explodes': 1556, 'scene': 3908, 'clay': 829, 'bold': 528, 'entirely': 1483, 'african': 123, 'americans': 204, 'ali': 165, 'transporter': 4583, 'mann': 2724, 'sally': 3876, 'walks': 4807, 'door': 1319, 'introduces': 2295, 'fun': 1811, 'hand': 1982, 'boredom': 541, 'stepfather': 4264, 'suspecting': 4388, 'chicago': 762, 'bloody': 515, 'religious': 3665, 'misadventures': 2898, 'searching': 3939, 'waitress': 4801, 'fulfill': 1809, 'music': 2999, 'voodoo': 4794, 'kiss': 2482, 'presumed': 3457, 'fierce': 1662, 'survived': 4380, 'draw': 1333, 'isolation': 2326, 'resident': 3696, 'facility': 1579, 'environment': 1485, 'location': 2621, 'cloning': 842, 'porter': 3409, 'architect': 285, 'ellie': 1423, 'longtime': 2633, 'griffin': 1940, 'direction': 1261, 'anniversary': 245, 'randall': 3593, 'pals': 3224, 'accomplish': 72, 'countless': 1001, 'blackmail': 503, 'devious': 1232, 'gladiator': 1886, 'amusement': 210, 'audiences': 361, 'laid': 2508, 'waste': 4841, 'fame': 1599, 'slavery': 4128, '21st': 39, 'noir': 3103, 'ignoring': 2186, 'attacks': 348, 'banker': 403, 'poker': 3383, 'financial': 1684, 'market': 2742, 'italy': 2331, 'torture': 4543, 'landing': 2512, 'evade': 1514, 'gorilla': 1908, 'sarah': 3891, 'send': 3984, 'shotgun': 4069, 'depression': 1190, 'era': 1490, 'bank': 402, 'charm': 753, 'edgar': 1399, 'fledgling': 1707, 'elusive': 1427, 'number': 3119, 'melvin': 2824, 'bringing': 582, 'cinema': 800, 'employer': 1448, 'heroin': 2063, 'harlem': 2002, 'south': 4182, 'asia': 321, 'drugs': 1355, 'blackpeople': 504, 'drugtraffic': 1356, 'ambition': 194, 'dishonesty': 1282, 'florida': 1720, 'hijack': 2076, 'ransom': 3597, 'walter': 4814, 'tonyscott': 4537, 'pam': 3225, 'greg': 1935, 'wound': 4953, 'cash': 693, 'dad': 1091, 'male': 2710, 'descends': 1196, 'twins': 4636, 'skeptical': 4117, 'nypd': 3125, 'don': 1314, 'allen': 175, 'terry': 4473, 'background': 387, 'focus': 1726, 'closed': 845, 'stumble': 4320, 'case': 692, 'touch': 4546, 'narration': 3023, 'buddycomedy': 611, 'adam': 92, 'mckay': 2801, 'uncovered': 4656, 'selling': 3979, 'guard': 1953, 'marshal': 2753, 'chuck': 795, 'german': 1861, 'hunter': 2168, 'brutal': 603, 'mississippi': 2912, 'plantation': 3362, 'bountyhunter': 550, 'racism': 3571, 'dentist': 1187, 'quentintarantino': 3553, 'quentin': 3552, 'tarantino': 4419, 'festival': 1651, 'cruel': 1062, 'rescued': 3691, 'judge': 2423, 'religion': 3663, 'gary': 1836, 'centered': 721, 'tell': 4452, 'room': 3824, 'summer': 4348, 'palace': 3222, 'church': 796, 'territory': 4467, 'numberintitle': 3120, 'airplanecrash': 147, 'ensemblecast': 1473, 'simonwest': 4092, 'rumored': 3845, 'franklin': 1778, 'revolutionary': 3739, 'independence': 2222, 'egg': 1408, 'ira': 2315, 'carol': 681, 'crown': 1060, 'lying': 2687, 'tourist': 4552, 'venice': 4743, 'eye': 1574, 'written': 4963, 'directed': 1260, 'hotel': 2143, 'undercoveragent': 4661, '1999': 31, 'body': 526, 'bride': 576, 'christine': 786, 'sex': 4022, 'pastor': 3264, 'nudity': 3118, 'christ': 783, 'priest': 3465, 'recovering': 3639, 'pink': 3345, 'value': 4727, 'rescuing': 3693, 'journalism': 2416, 'smuggling': 4143, 'stockbroker': 4279, 'refuses': 3648, 'mob': 2922, 'sexuality': 4026, 'humor': 2162, 'wallstreet': 4812, 'caused': 708, 'courtroom': 1016, 'accident': 68, 'millionaire': 2879, 'ward': 4824, 'psychologist': 3520, 'disfigurement': 1279, 'exploits': 1557, 'non': 3105, 'satire': 3895, 'stories': 4288, '19th': 32, 'distant': 1287, 'impact': 2208, 'inspire': 2264, 'award': 379, 'barn': 409, 'owl': 3201, 'st': 4229, 'soldiers': 4161, 'created': 1035, 'books': 538, 'mild': 2874, 'mannered': 2726, 'phillips': 3325, 'resurrected': 3715, 'eager': 1382, 'say': 3902, 'tail': 4404, 'basketball': 429, 'ago': 137, 'tormented': 4539, 'souls': 4179, 'presence': 3448, 'mercenaries': 2837, 'teaches': 4431, 'littleboy': 2611, 'research': 3694, 'assistant': 337, 'alienlife': 169, 'barney': 410, 'faster': 1623, 'extreme': 1571, 'sports': 4222, 'point': 3381, 'fbiagent': 1633, 'aspiring': 329, 'raising': 3586, 'baby': 384, 'whale': 4878, 'size': 4114, 'surviving': 4382, 'pushed': 3544, 'despair': 1203, 'morality': 2951, 'searches': 3938, 'sell': 3978, 'club': 848, 'helping': 2054, 'bar': 406, '2003': 36, 'chief': 764, 'roy': 3834, 'site': 4110, 'chemical': 761, 'elaborate': 1414, 'brown': 601, 'corporation': 992, 'dialogue': 1237, 'independentfilm': 2224, 'unfortunately': 4677, 'psychotic': 3523, 'kingpin': 2480, 'earlier': 1383, 'area': 287, 'irish': 2321, 'immigrant': 2203, 'pig': 3341, 'refuge': 3647, 'posing': 3411, 'zhang': 4990, 'cody': 858, 'idol': 2184, 'animated': 238, 'mockumentary': 2925, 'produced': 3483, 'pictures': 3337, 'stars': 4249, 'jeff': 2364, 'ash': 318, 'ask': 324, 'housewife': 2149, 'frankoz': 1779, 'kidnap': 2462, 'warlord': 4829, 'shot': 4068, 'heavy': 2043, 'intense': 2279, 'ground': 1944, 'prisonersofwar': 3473, 'election': 1416, 'carolina': 682, 'politics': 3396, 'politician': 3395, 'jayroach': 2358, 'roach': 3776, 'taxi': 4425, 'given': 1883, 'luc': 2678, 'charlotte': 752, 'miranda': 2896, 'married': 2747, 'samantha': 3878, 'vacation': 4723, 'retreat': 3720, 'remember': 3674, 'decided': 1157, 'failed': 1585, 'el': 1413, 'surprise': 4372, 'worth': 4952, 'diego': 1247, 'unexpectedly': 4671, 'passes': 3258, 'ella': 1422, 'stepmother': 4268, 'daughters': 1123, 'meeting': 2818, 'dashing': 1118, '14': 7, 'watches': 4844, 'grief': 1938, 'desire': 1200, 'tree': 4597, 'serialkiller': 4001, 'corpse': 993, 'pedophile': 3285, 'grieving': 1939, 'office': 3144, 'friendly': 1797, 'vegetarian': 4740, 'sharks': 4049, 'dude': 1361, 'hungry': 2165, 'suspicion': 4391, 'brutality': 604, 'fort': 1759, 'guide': 1958, 'gregory': 1936, 'local': 2619, 'witches': 4912, 'manner': 2725, 'carry': 685, 'couldn': 998, 'moonlights': 2948, 'goal': 1894, 'mindcontrol': 2884, 'amanda': 189, 'infamous': 2234, 'breaks': 570, 'loose': 2638, 'host': 2138, 'alzheimer': 188, 'slowly': 4135, 'consumed': 957, 'feels': 1644, 'especially': 1503, 'jared': 2354, 'singlemother': 4102, 'prisoners': 3472, 'moscow': 2958, 'methods': 2847, 'russia': 3856, 'mexican': 2849, 'santa': 3888, 'antonio': 259, 'bob': 522, 'insurance': 2274, 'raise': 3584, 'receives': 3627, 'costume': 997, 'morgan': 2952, 'adams': 93, 'murderous': 2995, 'difficult': 1251, 'rennyharlin': 3679, 'renny': 3678, 'harlin': 2003, 'needed': 3051, 'arrived': 305, 'assassinate': 331, 'typical': 4643, 'cowboy': 1022, 'camp': 647, 'collector': 873, 'al': 150, 'truly': 4615, 'runaway': 3847, 'toxic': 4555, 'pennsylvania': 3290, 'million': 2878, 'hong': 2117, 'meet': 2817, 'embassy': 1433, 'complicated': 918, 'boys': 558, 'threatening': 4506, 'situations': 4113, 'claire': 816, 'spencer': 4207, 'hearing': 2034, 'seeing': 3966, 'wonders': 4929, 'telling': 4453, 'hauntedhouse': 2020, 'haunting': 2021, 'flint': 1717, 'food': 1736, 'phil': 3320, 'times': 4526, 'motor': 2969, 'neighbors': 3056, 'insanity': 2258, 'magazine': 2696, 'photo': 3328, 'manager': 2716, 'photographer': 3329, 'tv': 4630, 'dylan': 1375, 'natalie': 3026, 'traffic': 4566, 'differences': 1249, 'martial': 2756, 'boston': 545, 'mafia': 2695, 'infiltrate': 2239, 'undercovercop': 4662, 'imperial': 2209, 'luck': 2680, 'vietnam': 4760, 'damien': 1095, 'budget': 612, 'studio': 4318, 'executive': 1535, 'filming': 1675, 'advice': 115, 'actors': 87, 'scenes': 3909, 'production': 3486, 'gangs': 1828, 'moviestar': 2980, 'disgraced': 1280, 'mikael': 2871, 'patriarch': 3270, 'niece': 3092, '40': 46, 'punk': 3533, 'civilian': 810, 'demands': 1178, 'coffin': 860, 'accused': 75, 'survives': 4381, 'board': 518, 'theodore': 4485, 'walt': 4813, 'becker': 446, 'wounded': 4954, 'nazi': 3041, 'native': 3031, 'germany': 1863, 'create': 1034, 'shadow': 4030, 'unfold': 4672, 'player': 3366, 'tasked': 4423, 'colonel': 877, 'israeli': 2328, 'runs': 3850, 'll': 2616, 'israel': 2327, 'mossad': 2960, 'dennisdugan': 1185, 'dennis': 1184, 'dugan': 1363, 'adopted': 102, 'gradually': 1917, 'circumstances': 803, 'prostitute': 3507, 'lossofmother': 2654, 'extraterrestrialtechnology': 1570, 'workaholic': 4939, 'mansion': 2727, 'arrive': 304, 'butler': 630, 'decisions': 1160, 'sebastian': 3945, 'invisible': 2308, 'formula': 1757, 'eventually': 1520, 'drives': 1346, 'results': 3714, 'sydney': 4400, 'box': 552, 'magician': 2700, 'emma': 1439, 'gas': 1838, 'bishop': 495, 'prisoner': 3471, 'briandepalma': 575, 'palma': 3223, 'minnesota': 2890, 'linda': 2601, 'word': 4936, 'female': 1647, 'product': 3485, 'youngest': 4981, 'perform': 3295, 'la': 2501, 'emergency': 1436, 'amy': 212, 'frankie': 1777, 'buy': 631, 'conan': 923, 'massacre': 2771, 'pain': 3215, 'released': 3661, 'hills': 2080, 'repayment': 3683, 'comeback': 887, 'socially': 4153, 'poor': 3399, 'netherlands': 3065, 'sdailylife': 3933, 'doll': 1309, 'racehorse': 3565, 'sign': 4086, 'divorce': 1295, 'extremely': 1572, 'truck': 4612, 'kelly': 2452, 'heading': 2028, 'suicideattempt': 4343, 'loneliness': 2628, 'mates': 2779, 'song': 4168, 'crush': 1065, 'singing': 4100, 'documents': 1303, 'seaside': 3941, 'marie': 2736, 'sniper': 4148, 'conspire': 953, '24': 41, 'parole': 3244, 'charismatic': 749, 'las': 2523, 'vegas': 4739, 'risks': 3768, 'tess': 4474, 'stripclub': 4306, 'double': 1321, 'paulw': 3276, 'anderson': 221, 'dracula': 1328, 'resort': 3700, 'aged': 129, 'mummy': 2989, 'frankenstein': 1776, 'shocked': 4061, 'chaotic': 743, 'fall': 1592, 'view': 4763, 'daniel': 1104, 'outrageous': 3195, 'oddball': 3138, 'puppy': 3535, 'scheming': 3911, 'luxury': 2686, 'staff': 4231, 'workers': 4942, 'amateur': 190, 'petty': 3318, 'crook': 1053, 'apartment': 262, 'kate': 2443, 'britain': 585, 'countryhouse': 1004, 'multiplestorylines': 2986, 'nancy': 3020, 'meyers': 2852, 'victim': 4751, 'theft': 4484, 'national': 3029, 'jake': 2340, 'criminals': 1048, 'vows': 4796, 'asking': 326, 'season': 3942, 'rely': 3669, 'elliot': 1424, 'bunny': 619, 'jill': 2382, 'divided': 1293, 'personality': 3308, 'neil': 3057, 'jacques': 2338, 'russians': 3858, 'germans': 1862, 'travis': 4592, 'disappears': 1270, 'affections': 120, 'brazilian': 566, 'fictional': 1658, 'character': 745, 'movieinmovie': 2978, 'spoof': 4220, 'romantic': 3813, 'maid': 2701, 'sistersisterrelationship': 4109, 'brothel': 595, 'jail': 2339, 'sentence': 3992, 'sean': 3936, 'tokyo': 4532, 'low': 2674, 'rent': 3681, 'section': 3960, 'carjourney': 677, 'receive': 3626, 'arthur': 310, 'misfit': 2901, 'parrish': 3245, 'agenda': 132, 'lifeanddeath': 2588, 'loveatfirstsight': 2664, 'davis': 1129, 'semi': 3981, 'feel': 1641, 'broadway': 588, 'surgery': 4371, 'spends': 4210, 'seven': 4017, 'launches': 2531, 'singh': 4099, 'canadian': 653, '23': 40, 'rockstar': 3798, 'rapidly': 3599, 'resolve': 3699, 'sherman': 4058, 'specialist': 4201, 'seriously': 4004, 'petersegal': 3315, 'segal': 3973, 'separate': 3995, 'knowing': 2489, 'invited': 2309, 'wasteland': 4842, 'ma': 2689, 'possibility': 3416, 'stopping': 4286, 'urban': 4715, 'jury': 2434, 'deliver': 1172, 'brand': 561, 'ranking': 3596, 'popular': 3402, 'extremeviolence': 1573, 'psychic': 3518, 'remote': 3675, 'allows': 181, 'forward': 1762, 'complications': 919, 'arise': 291, '1950s': 20, 'romero': 3817, 'tales': 4411, 'anthology': 250, 'georgea': 1858, 'instantly': 2270, 'bloodthirsty': 514, 'adolescence': 100, 'lossofchild': 2649, 'demon': 1179, 'pact': 3212, 'serial': 4000, 'letters': 2576, 'built': 615, 'endless': 1455, 'plannedmurder': 3358, 'sci': 3917, 'lovesickness': 2671, 'prayer': 3431, 'scout': 3928, 'blade': 505, 'crack': 1025, 'suspect': 4386, 'event': 1518, 'prepared': 3444, 'sharp': 4050, 'drunken': 1358, 'watching': 4845, 'hallucination': 1978, 'thailand': 4479, 'bachelor': 385, 'planned': 3357, 'bangkok': 400, 'todd': 4531, 'accepted': 65, 'crooked': 1054, 'building': 614, 'christmastree': 789, 'mismatched': 2904, 'suburban': 4327, 'lonely': 2629, 'older': 3151, 'watch': 4843, 'social': 4152, 'adopts': 104, 'funny': 1814, 'scared': 3906, 'dinner': 1256, 'table': 4402, 'hatches': 2015, 'happen': 1993, 'rock': 3795, 'coach': 854, 'asked': 325, 'inmates': 2253, 'football': 1739, 'americanfootball': 202, 'tropical': 4608, 'paradise': 3230, 'deserted': 1198, 'ups': 4711, 'grew': 1937, 'ones': 3159, 'lessons': 2571, 'analyst': 215, 'maxwell': 2792, 'dancing': 1100, 'industry': 2232, 'daniels': 1105, 'patient': 3268, 'insane': 2257, 'families': 1601, 'bust': 628, 'pride': 3464, 'dysfunctionalfamily': 1379, 'rodney': 3801, 'better': 479, 'rageandhate': 3576, 'nephew': 3062, 'fantasies': 1609, 'actual': 90, 'imaginary': 2197, 'adamshankman': 94, 'shankman': 4040, 'views': 4764, 'schoolteacher': 3915, 'beach': 436, 'beautifulwoman': 444, 'bag': 391, 'creepy': 1042, 'hijacking': 2077, 'jerry': 2370, 'rachel': 3568, 'strangers': 4295, 'happening': 1995, 'twinbrother': 4635, 'caruso': 691, 'confederate': 928, 'ruby': 3837, 'blind': 508, 'albert': 154, 'sweetheart': 4394, 'les': 2565, 'invites': 2310, 'luke': 2683, 'isolated': 2325, 'hill': 2079, 'unfortunate': 4676, 'guests': 1957, 'interested': 2282, 'trauma': 4587, 'insomnia': 2261, 'loner': 2630, 'france': 1769, 'stadium': 4230, 'murderhunt': 2993, 'went': 4869, 'evolution': 1525, 'environmental': 1486, 'speaking': 4199, 'ufo': 4645, 'poweroutage': 3428, 'taxidriver': 4426, 'paranoia': 3233, 'wheelchair': 4879, 'european': 1511, 'theater': 4482, 'sergeant': 3999, 'division': 1294, 'transfer': 4576, 'fashion': 1621, 'editor': 1401, 'crashes': 1030, 'ivanreitman': 2333, 'reitman': 3655, 'shut': 4075, 'cavalry': 711, 'teach': 4428, 'hopkins': 2129, 'raymond': 3607, 'incident': 2216, 'capital': 659, 'vice': 4749, 'haunted': 2019, 'happened': 1994, 'didn': 1244, 'questions': 3556, 'possible': 3417, 'appear': 269, 'sight': 4084, 'henry': 2058, 'cool': 982, 'hoping': 2128, 'account': 73, 'necessary': 3049, 'enter': 1477, 'stanley': 4243, 'femalenudity': 1649, 'injustice': 2252, 'cruelty': 1063, 'comfort': 893, 'county': 1007, 'mexico': 2851, 'americancivilwar': 201, 'annie': 244, 'vincent': 4771, 'sons': 4171, 'satan': 3893, 'artists': 316, 'performing': 3299, 'beings': 458, 'literature': 2609, 'gilliam': 1877, 'mean': 2804, 'films': 1680, '60s': 50, 'housing': 2150, 'pregnant': 3438, 'elements': 1417, 'stalking': 4238, 'affair': 116, 'murders': 2996, 'allied': 177, 'kennedy': 2454, 'atomicbomb': 345, 'robbers': 3782, 'jersey': 2371, 'handful': 1984, 'kit': 2483, 'collapses': 868, 'walking': 4806, 'documentary': 1302, 'profit': 3489, 'tyler': 4640, 'contract': 968, 'dj': 1297, 'escort': 1502, 'struggling': 4311, 'week': 4863, 'shooting': 4064, 'inspiration': 2263, 'mistress': 2917, 'shakespeare': 4036, 'babe': 383, 'contest': 964, 'vicious': 4750, 'cursed': 1080, 'tracking': 4560, 'astronauts': 341, 'hoffman': 2098, 'grandfather': 1922, 'grandmother': 1923, 'block': 510, 'unless': 4691, 'pay': 3278, 'success': 4332, 'helped': 2053, 'filmed': 1674, 'sub': 4325, 'disastrous': 1272, 'erupts': 1495, 'hearts': 2039, 'legacy': 2556, 'mathematics': 2781, 'prize': 3477, 'graduate': 1918, 'teaching': 4432, 'breaking': 569, 'paranoid': 3234, 'mental': 2832, 'status': 4257, 'mathematician': 2780, 'schizophrenia': 3912, 'delusion': 1175, 'wait': 4799, 'title': 4529, 'lossofparents': 2655, 'boyfriend': 556, 'missingperson': 2908, 'graham': 1920, 'psychopath': 3522, 'advertising': 114, 'dirty': 1264, 'shady': 4032, 'monica': 2935, 'singleton': 4104, 'motherdaughterrelationship': 2963, 'epidemic': 1488, 'transforms': 4581, 'roadmovie': 3778, 'terrier': 4464, 'cunning': 1073, 'bite': 497, 'league': 2546, 'fallinginlove': 1595, 'pierre': 3340, 'july': 2427, 'cities': 805, 'fails': 1587, 'plant': 3361, 'ran': 3591, 'ian': 2177, 'malcolm': 2709, 'revealing': 3733, 'document': 1301, 'behavior': 457, 'roles': 3809, 'activist': 83, 'hippie': 2083, 'miracle': 2895, 'academy': 63, 'wesley': 4875, 'gibson': 1872, 'missionofmurder': 2911, 'alcatraz': 155, '100': 3, 'marines': 2739, 'starting': 4252, 'situation': 4112, 'quirky': 3560, 'total': 4544, 'short': 4067, 'term': 4459, 'tracy': 4562, 'tvshow': 4632, 'performance': 3296, 'basedonstagemusical': 422, 'xenophobia': 4968, 'wwii': 4965, 'convinced': 978, 'violently': 4775, 'troops': 4607, 'somebody': 4165, 'exorcism': 1542, 'demonicpossession': 1181, 'performances': 3297, 'reward': 3741, 'vault': 4737, 'lounge': 2662, 'simply': 4094, '16': 9, 'quick': 3557, 'thinking': 4493, 'highest': 2070, 'base': 415, 'climbing': 836, 'afghanistan': 121, 'unforeseen': 4674, 'dollar': 1310, 'nichols': 3088, 'aspirations': 328, 'secretlove': 3953, 'robinson': 3791, 'pop': 3400, 'singers': 4098, 'early': 1384, 'drugaddiction': 1352, 'oscaraward': 3188, 'extramaritalaffair': 1567, 'musicband': 3001, 'garygray': 1837, 'gray': 1926, 'hotelroom': 2144, 'seal': 3935, 'follow': 1732, 'antoinefuqua': 257, 'antoine': 256, 'fuqua': 1815, 'upset': 4712, 'union': 4680, 'kgb': 2459, 'terms': 4462, 'upperclass': 4709, 'relationshipproblems': 3657, 'bed': 449, 'teens': 4448, 'frightening': 1800, 'barrylevinson': 413, 'levinson': 2578, 'timeless': 4525, 'passionate': 3261, 'period': 3301, 'zucker': 4998, 'widowed': 4886, 'deathpenalty': 1146, 'rampage': 3590, 'accountant': 74, 'beat': 441, 'guilt': 1959, 'homeinvasion': 2107, 'harrison': 2008, 'ford': 1747, 'broker': 591, 'actor': 86, 'instructor': 2273, 'solve': 4164, 'rapmusic': 3600, 'dumped': 1365, 'eliminate': 1419, 'attractive': 359, 'soundtrack': 4180, 'secluded': 3946, 'horrifying': 2133, 'repressed': 3687, 'coma': 883, 'pulls': 3531, 'parallelworld': 3232, 'answer': 247, 'price': 3462, 'abusive': 62, 'alternative': 186, 'strategy': 4296, 'asylum': 342, 'homicide': 2113, 'witnesses': 4914, 'boxing': 554, 'dunne': 1367, 'policeofficer': 3391, 'volatile': 4789, 'visited': 4785, 'reilly': 3653, 'cemetery': 719, 'yacht': 4969, 'bahamas': 392, 'scubadiving': 3932, 'delivers': 1173, 'stunning': 4322, 'comedian': 888, 'cancer': 654, 'cal': 636, 'shake': 4034, 'records': 3637, 'plays': 3370, 'matter': 2784, 'wallace': 4809, 'mel': 2822, 'cheating': 758, 'lake': 2509, 'pollution': 3397, 'quarantine': 3548, 'alaska': 153, 'mistaken': 2913, 'talented': 4410, 'jimmy': 2384, 'promoter': 3498, 'chilling': 770, 'possessed': 3413, 'betty': 480, 'fields': 1661, 'rural': 3852, 'tension': 4458, 'liberation': 2583, 'cup': 1074, 'seasoned': 3943, 'writes': 4961, 'maggie': 2697, 'carpenter': 683, 'flees': 1710, 'moment': 2931, 'garrymarshall': 1835, 'garry': 1834, 'junkie': 2432, 'attitude': 355, 'exactly': 1528, 'bikini': 487, 'sandy': 3884, 'occupied': 3133, 'jewish': 2380, 'guerrilla': 1955, 'jew': 2378, 'wasn': 4840, 'supposed': 4365, 'did': 1243, 'cost': 996, 'capt': 661, 'various': 4734, 'clark': 818, 'wealth': 4853, 'looks': 2637, 'gorgeous': 1907, 'sofia': 4157, 'crowe': 1059, 'pool': 3398, 'swimmingpool': 4395, 'arctic': 286, 'hunting': 2170, 'predator': 3435, 'stardom': 4246, '25': 42, 'sparks': 4197, 'fought': 1764, 'vietnamveteran': 4761, 'vietnamwar': 4762, 'bigger': 484, 'expected': 1546, 'unlike': 4692, 'passions': 3262, 'picture': 3336, 'publisher': 3528, 'joey': 2395, 'sold': 4159, 'execution': 1534, 'artistic': 315, 'owners': 3204, 'clooney': 843, 'nuclearmissile': 3117, 'economy': 1396, 'preparing': 3446, 'muslim': 3004, 'countryside': 1006, 'ronny': 3821, 'firm': 1695, 'hustler': 2174, 'mistakenidentity': 2914, 'response': 3706, 'murderer': 2992, 'injected': 2249, 'member': 2825, 'catch': 700, 'arnold': 297, 'dealers': 1140, 'strip': 4305, 'senior': 3987, 'giving': 1885, 'nearby': 3047, 'unwitting': 4705, 'hart': 2011, 'trial': 4599, 'starring': 4248, 'rebecca': 3620, 'opening': 3163, 'moves': 2976, 'instant': 2269, 'superstar': 4361, 'wrestling': 4956, 'victims': 4752, 'freeman': 1790, 'hoodlum': 2121, 'bobbyfarrelly': 524, 'farrelly': 1619, 'dorothy': 1320, 'wakes': 4803, 'prominent': 3493, 'novelist': 3113, 'catherine': 702, 'yard': 4971, 'seductive': 3965, 'malenudity': 2713, 'proof': 3502, 'bars': 414, 'lust': 2685, 'overthrow': 3200, 'tyrannical': 4644, 'desires': 1201, 'succeeds': 4331, 'seattle': 3944, 'ravaged': 3605, 'midst': 2867, 'decision': 1159, 'approaching': 276, 'confronted': 934, 'kid': 2461, 'ballet': 396, 'ted': 4439, 'lynn': 2688, 'historical': 2088, 'cult': 1068, 'historicalfigure': 2089, 'aren': 288, 'fred': 1785, 'signs': 4087, 'approach': 274, 'expectations': 1545, '60': 49, 'jeffrey': 2365, 'interview': 2290, 'coast': 855, 'craig': 1027, 'ed': 1397, 'miles': 2875, 'beating': 442, 'guest': 1956, 'attending': 352, 'spiral': 4216, 'fiancee': 1654, 'vampires': 4729, 'distrust': 1289, 'shadowy': 4031, 'secretorganization': 3956, 'bowman': 551, 'ancientrome': 218, '1940s': 17, 'revolves': 3740, 'illegal': 2191, 'hear': 2033, 'promotion': 3499, 'darcy': 1109, 'maine': 2703, 'overcome': 3197, 'kasdan': 2441, 'focuses': 1728, 'pursues': 3540, 'critical': 1050, 'generations': 1849, 'speech': 4204, 'familyconflict': 1603, '1971': 23, 'heroism': 2064, '200': 35, 'calvin': 640, 'gig': 1875, 'hooper': 2123, 'fox': 1767, 'independent': 2223, 'nora': 3106, 'dale': 1093, 'jealous': 2360, 'competitive': 914, 'constant': 954, 'becominganadult': 448, 'spanish': 4195, 'troubled': 4610, 'foil': 1729, 'wallet': 4810, 'list': 2608, 'highway': 2075, 'hitchhiker': 2093, 'chronicle': 792, 'runner': 3848, 'elderly': 1415, 'clinteastwood': 838, 'clint': 837, 'eastwood': 1390, 'utah': 4722, 'reconcile': 3633, 'midlifecrisis': 2865, 'suppressedpast': 4366, 'katherine': 2444, 'ann': 240, 'conservative': 950, 'sexual': 4024, 'attends': 353, 'sexualobsession': 4028, 'eroticism': 1494, 'marijuana': 2737, 'illegalprostitution': 2194, 'changes': 740, 'candidate': 655, 'guardian': 1954, 'angel': 227, 'jess': 2373, 'wing': 4903, 'seduction': 3964, 'conman': 938, 'glenn': 1890, 'dating': 1121, 'mid': 2861, 'colorado': 880, 'presidentialelection': 3453, 'scandal': 3905, 'eating': 1392, 'outbreak': 3191, 'terminal': 4460, 'audience': 360, 'darkcomedy': 1113, 'hires': 2086, 'boring': 542, 'salesman': 3875, 'therapy': 4487, 'catches': 701, 'clubs': 849, 'claims': 815, 'fans': 1608, 'players': 3367, 'trainer': 4573, 'hudson': 2152, 'spend': 4208, 'celebrity': 717, 'drawing': 1334, 'numbers': 3121, 'rough': 3830, 'polanski': 3384, 'childabuse': 766, 'hire': 2084, 'robertrodriguez': 3787, 'rodriguez': 3802, 'dutch': 1370, 'surrounding': 4376, 'inspiring': 2267, 'snowstorm': 4150, '70s': 52, 'villains': 4770, 'austin': 365, 'featuring': 1639, 'gunslinger': 1967, 'gambling': 1823, 'cartel': 688, 'unfolds': 4673, 'chased': 756, 'edwards': 1404, 'adopt': 101, 'ivory': 2334, 'wayans': 4850, 'wade': 4798, 'widower': 4887, 'robreiner': 3794, 'reiner': 3654, 'hockey': 2097, 'guru': 1968, 'bollywood': 529, 'elvis': 1429, 'convention': 973, 'shelter': 4056, 'wyoming': 4966, 'roll': 3810, 'loosely': 2639, 'said': 3871, 'plenty': 3373, 'row': 3833, 'gentle': 1856, 'possesses': 3414, 'healing': 2031, 'roadtrip': 3779, 'sanity': 3886, 'chicken': 763, 'spotlight': 4224, 'georgia': 1860, 'hour': 2145, 'color': 879, 'opera': 3165, 'jobs': 2389, 'inspires': 2266, 'dea': 1134, 'bankrobbery': 405, 'dogs': 1307, 'crossed': 1057, 'metal': 2845, 'dedicated': 1161, 'legal': 2557, 'neurotic': 3067, 'march': 2733, 'couples': 1010, 'descend': 1195, 'problems': 3480, 'cole': 865, 'desolate': 1202, 'maze': 2797, 'wes': 4872, 'confused': 936, 'pleasure': 3372, 'paced': 3207, 'gunman': 1964, 'quarterback': 3549, 'replace': 3684, 'nicholas': 3087, 'evans': 1515, 'redford': 3645, 'presents': 3450, 'montana': 2942, 'peasant': 3284, 'exact': 1527, 'baltimore': 397, 'report': 3685, 'bargained': 408, 'sharkattack': 4047, 'interviews': 2291, 'footage': 1738, 'popstar': 3401, 'concert': 924, 'kills': 2475, 'terminalillness': 4461, 'musician': 3002, 'mixed': 2921, 'parallel': 3231, 'everybody': 1521, 'elliott': 1425, 'robbins': 3784, 'uptight': 4714, 'ken': 2453, 'informant': 2241, 'constantly': 955, 'puppet': 3534, 'raid': 3580, 'ceremony': 726, 'occult': 3132, 'cynical': 1090, 'willing': 4896, 'clients': 834, 'rightandjustice': 3757, 'norman': 3108, 'speak': 4198, 'ritual': 3770, 'stopmotion': 4285, 'jock': 2390, 'deputy': 1192, 'sensitive': 3990, 'network': 3066, 'warren': 4831, 'chauffeur': 757, 'passenger': 3256, 'blow': 516, 'navyseal': 3040, 'davido': 1128, 'minister': 2889, 'ripley': 3762, 'rifle': 3755, 'suspicious': 4392, 'girls': 1882, 'mistakenly': 2915, 'pageant': 3213, 'stan': 4239, 'volunteer': 4791, 'mickey': 2860, 'guns': 1966, 'fleischer': 1711, 'haroldramis': 2006, 'harold': 2005, 'ramis': 3589, 'apartheid': 261, 'believing': 463, 'rugby': 3838, 'historic': 2087, 'southafrica': 4183, 'poverty': 3423, 'serves': 4008, 'upcoming': 4707, 'engaged': 1462, 'fired': 1692, 'donaldpetrie': 1316, 'donald': 1315, 'petrie': 3317, '1950': 19, 'beverly': 481, 'tycoon': 4639, 'inheritance': 2245, 'joelcoen': 2393, 'coen': 859, 'failing': 1586, 'gus': 1969, 'craven': 1032, 'disturbing': 1291, 'containing': 960, 'gruesome': 1952, 'naturally': 3036, 'inherited': 2246, 'stress': 4301, 'therapist': 4486, 'dirtycop': 1265, 'autism': 371, 'homeless': 2109, 'article': 311, 'golf': 1901, 'comingofage': 897, 'garfield': 1833, 'sidekick': 4081, 'alike': 173, 'record': 3635, 'crucifixion': 1061, 'stewart': 4276, 'sailor': 3873, 'disappeared': 1269, 'patients': 3269, 'pregnancyandbirth': 3437, 'voice': 4788, 'actress': 88, 'pornography': 3406, 'rod': 3800, '17': 10, 'warlock': 4828, 'occurrences': 3134, 'bedroom': 450, 'clerk': 832, 'camera': 643, 'contain': 959, 'acts': 89, 'heartbreak': 2037, 'appointed': 272, '30': 43, 'hunts': 2171, 'stephenherek': 4267, 'herek': 2059, 'saves': 3899, 'author': 368, 'martinson': 2761, 'flirt': 1718, 'jobinterview': 2388, 'intern': 2284, 'anders': 220, 'lloyd': 2617, 'biker': 486, 'italian': 2330, 'handed': 1983, 'deceased': 1153, 'hometown': 2111, 'bully': 616, 'songwriter': 4170, 'songs': 4169, 'fat': 1624, 'juan': 2422, 'client': 833, 'fail': 1584, 'relationships': 3658, 'rules': 3844, 'michelle': 2858, 'sick': 4080, 'prompting': 3500, 'throw': 4514, 'jesse': 2374, '2009': 37, 'alabama': 151, 'stripper': 4307, 'ghosts': 1869, 'kat': 2442, 'mccall': 2798, 'ultra': 4649, 'gangsters': 1830, 'fateful': 1627, 'mistakes': 2916, 'evening': 1517, 'issues': 2329, 'wang': 4817, 'stages': 4233, 'credit': 1041, 'homelessperson': 2110, 'bus': 624, 'yakuza': 4970, 'includes': 2218, 'diva': 1292, 'tried': 4603, 'visits': 4787, 'motherrole': 2964, 'warondrugs': 4830, 'ernest': 1493, 'breakdown': 568, 'mere': 2840, 'drinking': 1342, 'demanding': 1177, 'kurt': 2499, 'clueless': 851, 'hicks': 2065, 'sir': 4106, 'railroad': 3581, 'expects': 1547, 'offer': 3141, 'bears': 438, 'neighborhood': 3055, 'maniac': 2721, 'maybe': 2794, 'martha': 2755, 'vineyard': 4772, 'dancer': 1099, 'freak': 1783, 'jackie': 2336, 'michigan': 2859, '1976': 25, 'nba': 3044, 'somewhat': 4166, 'seas': 3940, 'reunion': 3727, 'fan': 1606, 'virgin': 4776, 'surrealism': 4375, 'terrorize': 4472, 'spot': 4223, 'attraction': 358, 'official': 3147, 'privatedetective': 3475, 'attracted': 357, 'culture': 1071, 'boarding': 519, 'pianist': 3332, 'respective': 3705, 'confession': 929, 'francisfordcoppola': 1773, 'coppola': 986, 'drew': 1339, 'dollars': 1311, 'ending': 1454, 'standing': 4241, 'molly': 2929, 'frustrated': 1805, 'roommate': 3825, 'lester': 2572, 'lesbian': 2566, 'louisiana': 2661, 'penn': 3289, 'manipulation': 2722, 'bail': 393, 'influence': 2240, 'drugdealer': 1353, 'maria': 2735, '20th': 38, 'poet': 3379, 'cooper': 983, 'killers': 2473, 'feature': 1637, 'movies': 2979, 'fake': 1591, 'slasher': 4125, 'ohio': 3148, 'curtishanson': 1082, 'hanson': 1992, 'fword': 1819, 'argument': 290, 'flat': 1706, 'valentine': 4724, 'midnight': 2866, 'grade': 1916, 'seniors': 3988, 'keeps': 2451, 'antics': 254, 'mitch': 2918, 'bodies': 525, 'kaufman': 2448, 'minor': 2891, 'pimp': 3344, 'multiple': 2985, 'aggressive': 135, 'medication': 2814, 'stern': 4270, 'parody': 3243, 'destined': 1209, 'villagers': 4767, 'doubts': 1324, 'bennett': 469, 'gay': 1843, 'think': 4492, 'medicine': 2815, 'deeds': 1162, 'loveletter': 2666, 'liar': 2582, 'pistol': 3347, 'exposes': 1565, 'write': 4959, 'highschool': 2072, 'neiljordan': 3058, 'jump': 2428, 'celebrate': 714, 'courtcase': 1015, 'spikelee': 4215, 'welcome': 4867, 'fascinated': 1620, 'nun': 3123, 'emily': 1438, 'roth': 3829, 'billy': 489, 'serra': 4005, 'jaume': 2356, 'yellow': 4975, 'angela': 228, 'demand': 1176, 'traumatic': 4588, 'taste': 4424, 'connie': 944, 'fi': 1653, 'passing': 3259, 'tense': 4457, 'numerous': 3122, 'capitalism': 660, 'americanabroad': 200, 'occurs': 3135, 'silent': 4088, 'illness': 2195, 'psychiatric': 3516, 'variety': 4733, 'americanfootballplayer': 203, 'hasn': 2014, 'bonds': 533, 'virginity': 4778, 'heather': 2040, 'adults': 110, 'masturbation': 2777, 'insists': 2260, 'affairs': 117, 'foundfootage': 1765, 'foley': 1730, 'develop': 1225, 'humananimalrelationship': 2157, 'respected': 3704, 'dannyboyle': 1107, 'boyle': 557, 'harris': 2007, 'merciless': 2839, 'finished': 1690, 'explain': 1555, 'grisly': 1942, 'roots': 3826, 'katie': 2446, 'parasitic': 3236, 'melanie': 2823, 'stryder': 4312, 'wanda': 4816, 'forms': 1756, 'genocide': 1854, 'alienparasites': 170, 'andrewniccol': 223, 'niccol': 3085, 'bongjoon': 536, 'bong': 535, 'joon': 2411, 'du': 1359, 'dim': 1254, 'witted': 4916, 'snack': 4144, 'hyun': 2176, 'seo': 3994, 'irritated': 2322, 'nam': 3017, 'il': 2189, 'shamelessly': 4037, 'drunk': 1357, 'excuses': 1533, 'engrossed': 1467, 'joo': 2410, 'unidentified': 4678, 'object': 3126, 'riverbank': 3775, 'helplessly': 2055, 'snatched': 4147, 'render': 3676, 'powerless': 3427, 'receiving': 3628, 'citizen': 806, 'sewerage': 4021, 'formaldehyde': 1754, 'snackbar': 4145, 'exercise': 1536, 'severely': 4019, 'guilty': 1960, 'johncarpenter': 2397, 'prejudices': 3441, 'sittingonatoilet': 4111, 'laxative': 2539, 'wesanderson': 4873, 'murdering': 2994, 'cronenberg': 1052, 'cocaine': 856, 'davidgordongreen': 1127, 'misguided': 2903, 'sweet': 4393, 'reverend': 3737, 'convicted': 976, 'sale': 3874, 'model': 2926, 'prostitution': 3508, 'online': 3160, 'approaches': 275, 'unsuspecting': 4703, 'devito': 1233, 'derek': 1194, 'developer': 1227, 'sending': 3985, 'wong': 4930, 'rockandroll': 3796, 'heavymetal': 2044, 'august': 363, 'arrested': 302, 'addicted': 98, 'addiction': 99, 'indiana': 2227, 'injury': 2251, 'junior': 2431, 'nicole': 3091, 'driving': 1347, 'hypnosis': 2175, 'showing': 4072, 'richardson': 3746, 'suicidal': 4341, 'jazz': 2359, 'psychological': 3519, 'mills': 2881, 'shattered': 4052, 'pursued': 3539, 'employs': 1449, 'olivier': 3155, 'karen': 2440, 'entertaining': 1481, 'initially': 2248, 'puberty': 3525, 'policebrutality': 3387, 'residents': 3697, 'polish': 3393, 'servant': 4006, 'stephenfrears': 4266, 'frears': 1784, 'neal': 3045, 'womanrelation': 4925, 'publicist': 3527, 'megan': 2821, 'fletcher': 1714, '1990s': 30, 'employees': 1447, 'mechanic': 2809, 'malefriendship': 2712, 'controlling': 971, 'ailing': 144, 'regime': 3650, 'comedic': 889, 'gave': 1841, 'scholarship': 3913, 'ugly': 4646, 'customers': 1084, 'intertwine': 2289, 'dolphin': 1312, 'diagnosed': 1236, 'bankrobber': 404, 'pot': 3420, 'kidnappers': 2464, 'ellis': 1426, 'riot': 3761, 'protest': 3512, 'julie': 2426, 'connecticut': 940, 'package': 3210, 'horrible': 2131, 'involves': 2312, 'seriesofmurders': 4003, 'laura': 2532, 'ashley': 320, 'meadows': 2803, 'blonde': 511, 'border': 539, 'destructive': 1215, 'remain': 3670, 'deaf': 1137, 'principal': 3469, 'supermarket': 4357, 'iranian': 2317, 'samuel': 3881, 'sexually': 4027, 'sexualabuse': 4025, 'photography': 3330, 'talk': 4412, 'jurors': 2433, 'immigrants': 2204, 'connected': 939, 'competing': 912, 'studies': 4317, 'unorthodox': 4696, 'sant': 3887, 'jamal': 2342, 'writing': 4962, 'poetry': 3380, 'unsociability': 4700, 'treatment': 4596, 'piano': 3333, 'girlfriends': 1881, 'promising': 3497, 'totally': 4545, 'figures': 1670, 'classmate': 824, 'strict': 4302, 'ended': 1453, 'hopelessly': 2126, 'mrs': 2983, 'oppositesattract': 3171, 'straight': 4291, 'wildly': 4893, 'buddies': 609, 'unconventional': 4654, 'premonition': 3442, 'painfully': 3217, 'lgbt': 2581, 'glen': 1889, 'solomon': 4163, 'pick': 3334, 'naive': 3016, 'unemployed': 4668, 'kim': 2476, 'hide': 2067, 'cox': 1023, 'racial': 3569, 'rapper': 3601, 'hip': 2082, 'hop': 2124, 'fatal': 1625, 'chan': 736, 'pushes': 3545, 'scam': 3904, 'thanks': 4480, 'skateboarding': 4115, 'diner': 1255, 'campus': 651, 'ana': 213, 'carmen': 680, 'annabelle': 242, 'communication': 906, 'wescraven': 4874, 'fund': 1812, 'month': 2944, 'julia': 2424, 'colleagues': 870, 'circuit': 802, 'countrymusic': 1005, 'fromragstoriches': 1802, 'camcorder': 641, 'dates': 1120, 'orleans': 3183, 'nanny': 3021, 'dysfunctional': 1378, 'highschoolsports': 2073, 'mutual': 3009, 'maya': 2793, 'motley': 2968, 'valuable': 4726, 'painful': 3216, 'stalked': 4236, 'ax': 382, 'hannah': 1991, 'nightstand': 3099, 'malefemalerelationship': 2711, 'basedonplay': 421, 'ambulance': 196, 'mentalillness': 2833, 'extra': 1566, 'morgue': 2953, 'claudia': 828, 'joan': 2386, 'sidney': 4083, 'maskedkiller': 2768, 'composer': 920, 'forget': 1751, 'particularly': 3246, 'diane': 1239, 'playground': 3368, 'atom': 344, 'youngboy': 4979, 'aids': 143, 'africanamerican': 124, 'rights': 3758, 'shares': 4044, 'november': 3114, 'pat': 3265, 'commercial': 901, 'zoe': 4992, 'round': 3831, 'ronnie': 3820, 'followed': 1733, 'pawns': 3277, 'sharing': 4045, 'yuppie': 4983, 'cope': 985, 'shyness': 4078, 'teencomedy': 4446, 'brief': 578, 'adapted': 96, 'regular': 3651, 'agree': 138, 'sights': 4085, 'prank': 3430, 'experienced': 1550, 'screenwriter': 3931, 'wilder': 4891, 'guitar': 1961, 'celebrated': 715, 'caretaker': 675, 'performer': 3298, 'popularity': 3403, 'dealing': 1141, 'gene': 1846, 'emotionally': 1442, 'miner': 2886, 'lights': 2594, 'chad': 728, 'reclusive': 3632, 'reading': 3610, 'farewell': 1614, 'kevinsmith': 2457, 'crab': 1024, 'trucker': 4613, 'companion': 909, 'botched': 546, 'condition': 926, 'looked': 2635, 'clownishly': 847, 'seized': 3975, 'leslieh': 2569, 'leslie': 2568, 'dehydrates': 1170, 'sharkrepelent': 4048, 'blackcat': 501, 'catholic': 703, 'education': 1402, 'countries': 1002, 'entity': 1484, 'smoking': 4142, 'cairo': 635, 'comingout': 898, 'decapitation': 1152, 'apparently': 268, 'krueger': 2496, 'claiming': 814, 'philippe': 3322, 'mentally': 2834, 'jamie': 2348, 'sorority': 4176, 'fraternity': 1781, 'thirty': 4495, 'weeks': 4865, 'feud': 1652, 'odd': 3137, 'drink': 1341, 'misfits': 2902, 'jesus': 2376, 'jesuschrist': 2377, 'groupoffriends': 1946, 'website': 4861, 'portrait': 3410, 'finale': 1682, 'wood': 4932, 'overcomes': 3198, 'genre': 1855, 'oregon': 3177, 'australian': 367, 'lassehallström': 2526, 'lasse': 2525, 'hallström': 1977, 'baron': 411, 'victoria': 4754, 'harsh': 2010, 'verylittledialogue': 4747, 'claude': 827, 'leigh': 2561, 'jigsaw': 2381, '1974': 24, 'wine': 4902, 'haunt': 2018, 'omar': 3158, 'amidst': 206, 'idealistic': 2181, 'economic': 1394, 'countess': 1000, 'communist': 907, 'owned': 3202, 'intended': 2277, 'frozen': 1804, 'acting': 79, 'sudden': 4336, 'pack': 3209, 'stevens': 4273, 'anarchiccomedy': 216, 'nightlife': 3095, 'miguel': 2870, 'korea': 2494, 'disabled': 1266, 'disappear': 1267, 'payne': 3279, 'caraccident': 668, 'cheerleader': 759, 'slum': 4136, 'wearing': 4857, 'multi': 2984, 'teenagegirl': 4443, 'teenmovie': 4447, 'rugrats': 3839, 'talks': 4415, 'separation': 3997, 'vow': 4795, 'painter': 3218, 'woodyallen': 4935, 'pays': 3280, 'shoes': 4063, 'commit': 902, 'deeper': 1164, 'loan': 2618, 'freshman': 1794, 'friedberg': 1795, 'cultural': 1070, 'classroom': 826, 'economics': 1395, 'prom': 3492, 'detention': 1219, 'classmates': 825, 'musicians': 3003, 'jenny': 2368, 'demonic': 1180, 'infected': 2236, 'françois': 1780, '18': 12, 'touching': 4548, 'canada': 652, 'meat': 2808, 'suitor': 4346, 'gambler': 1822, 'armstrong': 295, 'disturbed': 1290, 'easily': 1388, 'secure': 3961, 'cameras': 645, 'perry': 3303, 'debut': 1149, 'meant': 2807, 'cultfilm': 1069, 'prestigious': 3456, 'jenkins': 2366, 'camping': 650, '1980': 26, 'cigarettesmoking': 798, 'prejudice': 3440, 'pedophilia': 3286, 'incest': 2215, 'ghetto': 1867, 'crocodile': 1051, 'entertainer': 1480, 'stalker': 4237, 'playwright': 3371, 'warden': 4825, 'oxford': 3205, 'richardlinklater': 3745, 'linklater': 2605, 'horrors': 2135, 'jessica': 2375, 'jeremy': 2369, 'worked': 4940, 'mall': 2714, 'likes': 2596, 'firsttime': 1696, 'romeo': 3816, 'theatremilieu': 4483, 'stoner': 4283, 'bandits': 399, 'lawman': 2535, '1990': 29, 'allowing': 180, 'achieve': 77, 'mayhem': 2795, 'resulting': 3713, 'housekeeper': 2148, 'iraqwar': 2319, 'freddy': 1786, 'anton': 258, 'arrangement': 300, 'fling': 1716, 'beth': 476, 'newcomer': 3071, 'madea': 2693, 'tylerperry': 4641, 'arrangedmarriage': 299, 'locals': 2620, 'olivia': 3154, 'establishment': 1505, 'sexaddiction': 4023, 'porn': 3405, 'patricia': 3271, 'marrying': 2751, 'unforgettable': 4675, 'ireland': 2320, 'converge': 974, 'newzealand': 3084, 'mega': 2820, 'egoyan': 1410, 'werner': 4871, 'rocket': 3797, 'trafficking': 4567, 'philadelphia': 3321, 'montreal': 2946, 'gunrampage': 1965, 'personrunningamok': 3309, 'bloodsplatter': 513, 'policemen': 3390, 'becky': 447, 'mira': 2894, 'joshua': 2415, 'sleazy': 4130, 'morris': 2956, 'loser': 2644, 'gandhi': 1826, 'indianlead': 2228, 'traditional': 4565, 'existentialism': 1540, 'getaway': 1864, 'depressed': 1189, 'relatives': 3659, 'marketing': 2743, 'basement': 428, 'chloe': 774, 'crossdressing': 1056, 'reconnect': 3634, 'dignity': 1253, 'intimate': 2292, 'investment': 2307, 'perez': 3293, 'recording': 3636, 'janitor': 2351, 'gossip': 1909, 'chainsaw': 730, 'jerusalem': 2372, 'burns': 622, 'beer': 451, 'fleming': 1712, 'brent': 571, 'dare': 1110, 'alfredhitchcock': 164, 'alfred': 163, 'hitchcock': 2092, 'privileged': 3476, 'preacher': 3433, 'exclusive': 1532, 'monroe': 2938, 'warehouse': 4826, 'outback': 3190, 'lola': 2624, 'kathy': 2445, 'tradition': 4564, 'tucker': 4620, 'gina': 1878, 'clique': 839, 'hamilton': 1979, 'brandon': 562, 'backgrounds': 388, 'connections': 942, 'lance': 2510, 'contemporary': 962, 'developing': 1228, 'addict': 97, 'parties': 3247, 'screaming': 3929, 'tvmovie': 4631, '1944': 18, 'legends': 2560, 'jamesivory': 2345, 'unsimulatedsex': 4699, 'matthews': 2788, 'teachers': 4430, 'filmmakers': 1677, 'indie': 2230, 'masks': 2769, 'leon': 2563, 'chopra': 779, 'partying': 3253, 'examines': 1529, 'gayinterest': 1844, 'toronto': 4542, 'highschoolstudent': 2074, 'jin': 2385, 'labor': 2503, 'holden': 2100, 'folk': 1731, 'mumblecore': 2987, 'iran': 2316, 'lesbianrelationship': 2567, 'bisexual': 494, 'episode': 1489, 'eva': 1512, 'zealand': 4986, 'backwater': 389, 'sharron': 4051, 'mormon': 2954, 'focused': 1727, 'automatic': 373, 'mumblegore': 2988, 'slams': 4124, 'busload': 627, 'cebe': 713, 'manz': 2729, 'mon': 2933, 'farrell': 1618, 'naturalistic': 3035, 'infuses': 2243, 'thrillling': 4512, 'alcoholicfather': 158, 'dennishopper': 1186, 'robertsarkies': 3788, 'sarkies': 3892, 'aramoana': 279, 'resourced': 3701, 'risked': 3767, 'alyssa': 187}\n"
     ]
    }
   ],
   "source": [
    "feature_names = cv.vocabulary_\n",
    "print(feature_names)"
   ]
  },
  {
   "cell_type": "code",
   "execution_count": 84,
   "id": "c9ca46c4",
   "metadata": {},
   "outputs": [],
   "source": [
    "import nltk\n",
    "from nltk.stem.porter import PorterStemmer"
   ]
  },
  {
   "cell_type": "code",
   "execution_count": 85,
   "id": "365aacd7",
   "metadata": {},
   "outputs": [],
   "source": [
    "ps=PorterStemmer()"
   ]
  },
  {
   "cell_type": "code",
   "execution_count": 86,
   "id": "71b87f38",
   "metadata": {},
   "outputs": [],
   "source": [
    "#stemming is used to basically one meaning words into its root word like : dance= dances, dancing, danceeee\n",
    "#so that our data can learn fastly\n",
    "def stem(text):\n",
    "    y=[]\n",
    "    for i in text.split():\n",
    "        y.append(ps.stem(i))\n",
    "    return \" \".join(y)    "
   ]
  },
  {
   "cell_type": "code",
   "execution_count": 88,
   "id": "5f287e87",
   "metadata": {},
   "outputs": [
    {
     "name": "stderr",
     "output_type": "stream",
     "text": [
      "C:\\Users\\DELL\\AppData\\Local\\Temp\\ipykernel_11344\\3514595201.py:1: SettingWithCopyWarning: \n",
      "A value is trying to be set on a copy of a slice from a DataFrame.\n",
      "Try using .loc[row_indexer,col_indexer] = value instead\n",
      "\n",
      "See the caveats in the documentation: https://pandas.pydata.org/pandas-docs/stable/user_guide/indexing.html#returning-a-view-versus-a-copy\n",
      "  new_df['tags']=new_df['tags'].apply(stem)\n"
     ]
    }
   ],
   "source": [
    "new_df['tags']=new_df['tags'].apply(stem)"
   ]
  },
  {
   "cell_type": "code",
   "execution_count": 89,
   "id": "611ed37f",
   "metadata": {},
   "outputs": [],
   "source": [
    "from sklearn.metrics.pairwise import cosine_similarity"
   ]
  },
  {
   "cell_type": "code",
   "execution_count": 91,
   "id": "a28cb195",
   "metadata": {},
   "outputs": [],
   "source": [
    "#we are calculating distance between every vector of the movie\n",
    "similarity=cosine_similarity(vectors)"
   ]
  },
  {
   "cell_type": "code",
   "execution_count": 95,
   "id": "310e00a3",
   "metadata": {},
   "outputs": [],
   "source": [
    "def recommend(movie):\n",
    "    movie_index=new_df[new_df['title'] == movie].index[0]\n",
    "    distances=similarity[movie_index]\n",
    "    movies_list= sorted(list(enumerate(distances)),reverse=True,key=lambda x:x[1])[1:6]\n",
    "    for i in movies_list:\n",
    "        print(new_df.iloc[i[0]].title)"
   ]
  },
  {
   "cell_type": "code",
   "execution_count": 97,
   "id": "3a501cf8",
   "metadata": {},
   "outputs": [
    {
     "name": "stdout",
     "output_type": "stream",
     "text": [
      "The Dark Knight\n",
      "The Dark Knight Rises\n",
      "Batman & Robin\n",
      "Batman\n",
      "Batman\n"
     ]
    }
   ],
   "source": [
    "recommend('Batman Begins')"
   ]
  },
  {
   "cell_type": "code",
   "execution_count": 98,
   "id": "52cfd456",
   "metadata": {},
   "outputs": [],
   "source": [
    "import pickle"
   ]
  },
  {
   "cell_type": "code",
   "execution_count": 99,
   "id": "a9ba2d0b",
   "metadata": {},
   "outputs": [],
   "source": [
    "pickle.dump(new_df,open('movies.pkl','wb'))"
   ]
  },
  {
   "cell_type": "code",
   "execution_count": 100,
   "id": "6dc08c60",
   "metadata": {},
   "outputs": [],
   "source": [
    "pickle.dump(similarity,open('similarity.pkl','wb'))"
   ]
  },
  {
   "cell_type": "code",
   "execution_count": null,
   "id": "6369b89b",
   "metadata": {},
   "outputs": [],
   "source": []
  },
  {
   "cell_type": "code",
   "execution_count": null,
   "id": "1c92f8e4",
   "metadata": {},
   "outputs": [],
   "source": []
  },
  {
   "cell_type": "code",
   "execution_count": null,
   "id": "48f849c8",
   "metadata": {},
   "outputs": [],
   "source": []
  },
  {
   "cell_type": "code",
   "execution_count": null,
   "id": "efbbba84",
   "metadata": {},
   "outputs": [],
   "source": []
  },
  {
   "cell_type": "code",
   "execution_count": null,
   "id": "9facc4b4",
   "metadata": {},
   "outputs": [],
   "source": []
  },
  {
   "cell_type": "code",
   "execution_count": null,
   "id": "18d4d2a4",
   "metadata": {},
   "outputs": [],
   "source": []
  },
  {
   "cell_type": "code",
   "execution_count": null,
   "id": "b8431137",
   "metadata": {},
   "outputs": [],
   "source": []
  },
  {
   "cell_type": "code",
   "execution_count": null,
   "id": "73dd65e7",
   "metadata": {},
   "outputs": [],
   "source": []
  },
  {
   "cell_type": "code",
   "execution_count": null,
   "id": "e60ffbfe",
   "metadata": {},
   "outputs": [],
   "source": []
  },
  {
   "cell_type": "code",
   "execution_count": null,
   "id": "30fb163a",
   "metadata": {},
   "outputs": [],
   "source": []
  },
  {
   "cell_type": "code",
   "execution_count": null,
   "id": "61b9fa9a",
   "metadata": {},
   "outputs": [],
   "source": []
  },
  {
   "cell_type": "code",
   "execution_count": null,
   "id": "c32ef637",
   "metadata": {},
   "outputs": [],
   "source": []
  },
  {
   "cell_type": "code",
   "execution_count": null,
   "id": "4f247230",
   "metadata": {},
   "outputs": [],
   "source": []
  },
  {
   "cell_type": "code",
   "execution_count": null,
   "id": "71ef6bad",
   "metadata": {},
   "outputs": [],
   "source": []
  },
  {
   "cell_type": "code",
   "execution_count": null,
   "id": "f4c16e5a",
   "metadata": {},
   "outputs": [],
   "source": []
  },
  {
   "cell_type": "code",
   "execution_count": null,
   "id": "cb7851c5",
   "metadata": {},
   "outputs": [],
   "source": []
  },
  {
   "cell_type": "code",
   "execution_count": null,
   "id": "d751e6ef",
   "metadata": {},
   "outputs": [],
   "source": []
  },
  {
   "cell_type": "code",
   "execution_count": null,
   "id": "90498077",
   "metadata": {},
   "outputs": [],
   "source": []
  },
  {
   "cell_type": "code",
   "execution_count": null,
   "id": "704f069d",
   "metadata": {},
   "outputs": [],
   "source": []
  },
  {
   "cell_type": "code",
   "execution_count": null,
   "id": "02938730",
   "metadata": {},
   "outputs": [],
   "source": []
  },
  {
   "cell_type": "code",
   "execution_count": null,
   "id": "443f1dbd",
   "metadata": {},
   "outputs": [],
   "source": []
  },
  {
   "cell_type": "code",
   "execution_count": null,
   "id": "e98befed",
   "metadata": {},
   "outputs": [],
   "source": []
  }
 ],
 "metadata": {
  "kernelspec": {
   "display_name": "Python 3 (ipykernel)",
   "language": "python",
   "name": "python3"
  },
  "language_info": {
   "codemirror_mode": {
    "name": "ipython",
    "version": 3
   },
   "file_extension": ".py",
   "mimetype": "text/x-python",
   "name": "python",
   "nbconvert_exporter": "python",
   "pygments_lexer": "ipython3",
   "version": "3.11.5"
  }
 },
 "nbformat": 4,
 "nbformat_minor": 5
}
